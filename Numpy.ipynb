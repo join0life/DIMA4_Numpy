{
 "cells": [
  {
   "cell_type": "markdown",
   "id": "b9e91918-2e22-4912-b1d6-b1bb18982b51",
   "metadata": {},
   "source": [
    "# 넘파이 개요"
   ]
  },
  {
   "cell_type": "markdown",
   "id": "b65f548b-dc74-4122-900e-b8e86d95226a",
   "metadata": {},
   "source": [
    "- Numerical Python의 약자\n",
    "- 고성능의 수치 해석용 python 라이브러리\n",
    "- Numpy는 고성능 다차원 배열과 이런 배열을 처리하는 다양한 함수와 툴을 제공한다.\n",
    "- Matrix와 Vector와 같은 연산에 최적화 되어 있다.\n",
    "- 공식 사이트 : https://www.numpy.org"
   ]
  },
  {
   "cell_type": "markdown",
   "id": "a68f188a-728e-4f14-807a-6155e882adc2",
   "metadata": {},
   "source": [
    "# Python 다차원 배열의 이해"
   ]
  },
  {
   "cell_type": "markdown",
   "id": "9e527414-3591-41cd-924c-90948b6aa165",
   "metadata": {},
   "source": [
    "## 숫자 자료형"
   ]
  },
  {
   "cell_type": "code",
   "execution_count": 1,
   "id": "85013f4f-b014-4383-89f3-102032a095dd",
   "metadata": {},
   "outputs": [],
   "source": [
    "# 세 명의 학생의 수학과목 점수 설정\n",
    "math1 = 11\n",
    "math2 = 22\n",
    "math3 = 33"
   ]
  },
  {
   "cell_type": "code",
   "execution_count": 5,
   "id": "c9cb01a9-aacf-4223-874a-4194297fa53a",
   "metadata": {},
   "outputs": [
    {
     "name": "stdout",
     "output_type": "stream",
     "text": [
      "수학점수 합 : 66\n",
      "평균 : 22.00\n"
     ]
    }
   ],
   "source": [
    "# 합과 평균 구하기\n",
    "total = math1 + math2 + math3\n",
    "average = total / 3\n",
    "print(f'수학점수 합 : {total}')\n",
    "print(f'평균 : {average:.2f}')"
   ]
  },
  {
   "cell_type": "markdown",
   "id": "4b2c6238-0428-4841-a83e-124fc9b34d5b",
   "metadata": {},
   "source": [
    "## 리스트 자료형"
   ]
  },
  {
   "cell_type": "code",
   "execution_count": 14,
   "id": "c0ae3757-e12b-44f4-8347-74da1eb2f9b3",
   "metadata": {},
   "outputs": [
    {
     "name": "stdout",
     "output_type": "stream",
     "text": [
      "수학점수 합 : 110\n",
      "평균 : 27.50\n"
     ]
    }
   ],
   "source": [
    "# math_list = [11, 22, 33]\n",
    "\n",
    "total = 0\n",
    "for math in math_list:\n",
    "    total += math\n",
    "average = total / len(math_list)\n",
    "print(f'수학점수 합 : {total}')\n",
    "print(f'평균 : {average:.2f}')"
   ]
  },
  {
   "cell_type": "code",
   "execution_count": 13,
   "id": "86588926-54a0-4049-95e0-9f5d7c5f535f",
   "metadata": {},
   "outputs": [],
   "source": [
    "math_list.append(44)"
   ]
  },
  {
   "cell_type": "markdown",
   "id": "992f01e1-dff0-4c85-8aca-9b69d847571c",
   "metadata": {},
   "source": [
    "- 시험문제에 오류가 발생돼서 모든 학생의 점수를 1점씩 올려줘야 하는 상황"
   ]
  },
  {
   "cell_type": "code",
   "execution_count": 16,
   "id": "94d039f2-c669-4de2-ad7f-069ba9d14b94",
   "metadata": {},
   "outputs": [
    {
     "name": "stdout",
     "output_type": "stream",
     "text": [
      "[12, 23, 34, 45]\n"
     ]
    }
   ],
   "source": [
    "math_list2 = [math + 1 for math in math_list]\n",
    "# for math in math_list:\n",
    "#     math_list2.append(math+1)\n",
    "print(math_list2)"
   ]
  },
  {
   "cell_type": "markdown",
   "id": "10d7d1dc-b116-4e53-899f-df3e9591e34e",
   "metadata": {},
   "source": [
    "- 여기서 구조를 확장해서\n",
    "- 1반의 점수가 11, 12, 13\n",
    "- 2반의 점수가 21, 22, 23\n",
    "- 3반의 점수가 31, 32, 33\n",
    "- 이러한 구조로 바뀌면 중첩 리스트로 변경해야 하고, 합과 평균을 구하는 로직도 변경이 돼야 한다."
   ]
  },
  {
   "cell_type": "markdown",
   "id": "04f98f8e-a359-4c52-88a6-b6de47a6eda0",
   "metadata": {},
   "source": [
    "## Numpy로 구현한 다차원 배열"
   ]
  },
  {
   "cell_type": "markdown",
   "id": "892ea387-80f4-44a8-a5dc-b24a7957e454",
   "metadata": {},
   "source": [
    "- Numpy를 이용하면 중첩된 자료를 효율적으로 다룰 수 있다.\n",
    "- 'import numpy as np' 형태로 사용하는 게 일반적이다."
   ]
  },
  {
   "cell_type": "code",
   "execution_count": 19,
   "id": "c9dcc7c0-b9e9-4545-a5be-c7c28e09f68e",
   "metadata": {},
   "outputs": [
    {
     "name": "stdout",
     "output_type": "stream",
     "text": [
      "[[11 12 13]\n",
      " [21 22 23]\n",
      " [31 32 33]]\n",
      "[[11, 12, 13], [21, 22, 23], [31, 32, 33]]\n",
      "<class 'numpy.ndarray'>\n"
     ]
    }
   ],
   "source": [
    "import numpy as np\n",
    "\n",
    "math_ndarray = np.array([[11, 12, 13],[21, 22, 23],[31, 32, 33]]) # 파이썬의 리스트를 다차원 배열로 만들어줌\n",
    "print(math_ndarray)\n",
    "print([[11, 12, 13],[21, 22, 23],[31, 32, 33]])\n",
    "print(type(math_ndarray))"
   ]
  },
  {
   "cell_type": "code",
   "execution_count": 20,
   "id": "a5c38b26-ae34-454e-b00e-06f2c231a305",
   "metadata": {},
   "outputs": [
    {
     "name": "stdout",
     "output_type": "stream",
     "text": [
      "[[12 13 14]\n",
      " [22 23 24]\n",
      " [32 33 34]]\n"
     ]
    }
   ],
   "source": [
    "# 각 원소에 1을 더하려면...\n",
    "new_ndarray = math_ndarray + 1\n",
    "print(new_ndarray)"
   ]
  },
  {
   "cell_type": "code",
   "execution_count": 21,
   "id": "a859729b-456d-4f16-93f0-87a67eb7590e",
   "metadata": {},
   "outputs": [
    {
     "name": "stdout",
     "output_type": "stream",
     "text": [
      "합: 207\n",
      "평균: 23.0\n"
     ]
    }
   ],
   "source": [
    "print('합:',np.sum(new_ndarray))\n",
    "print('평균:',np.mean(new_ndarray)) # 파이썬에는 평균을 구하는 함수는 없음 "
   ]
  },
  {
   "cell_type": "code",
   "execution_count": 22,
   "id": "b434dc71-651d-4f39-ba26-fb671ab0270c",
   "metadata": {},
   "outputs": [
    {
     "name": "stdout",
     "output_type": "stream",
     "text": [
      "반별 평균: [13. 23. 33.]\n"
     ]
    }
   ],
   "source": [
    "# 각 반의 평균(행 평균)\n",
    "print('반별 평균:', np.mean(new_ndarray, axis = 1)) # axis는 축 옵션"
   ]
  },
  {
   "cell_type": "markdown",
   "id": "716a6fa1-5d26-43b9-8025-ae0c87f17081",
   "metadata": {},
   "source": [
    "# Numpy의 axis(축) 정리"
   ]
  },
  {
   "cell_type": "markdown",
   "id": "7aa7c90f-7ba1-4188-b2b1-c751712901fc",
   "metadata": {},
   "source": [
    "- 행렬의 모양을 다음과 같이 확인할 수 있다.\n",
    "    - ndarray객체.shape\n",
    "    - 1차원 벡터: (원소개수,)\n",
    "    - 2차원 행렬: (행, 열)\n",
    "    - 3차원 행렬: (깊이, 행, 열)\n",
    "    - shape의 결과값을 기준으로 axis 값이 0부터 부여된다.\n",
    "    - 2차원인 경우 axis=0 -> 행, axis=1 -> 열을 의미한다.\n",
    "    - 3차원인 경우 axis=0 -> 깊이, axis=1 -> 행, axis=2 -> 열을 의미한다.\n",
    "- 2차원 행렬의 축  \n",
    "![2dims](2dims.png)\n",
    "    - axis를 0 또는 -2로 하면 **행 축을 기준으로** 계산하라는 의미로 각 행에 있는 열의 값을 계산하여 하나의 값으로 만든다.\n",
    "    - axis를 1 또는 -1로 하면 **열 축을 기준으로** 계산하라는 의미로 각 열에 있는 행의 값을 계산하여 하나의 값으로 만든다.\n",
    "- 3차원 행렬의 축  \n",
    "![3dims](3dims.png)\n",
    "    - axis를 0 또는 -3으로 하면 **깊이를 기준으로** 계산하라는 의미로 서로 마주하는 요소끼리의 값을 계산하여 하나의 값으로 만든다.\n",
    "    - axis를 1 또는 -2로 하면 **행 축을 기준으로** 계산하라는 의미로 각 행에 있는 열의 값을 계산하여 하나의 값으로 만든다\n",
    "    - axis를 2 또는 -1으로 하면 **열 축을 기준으로** 계산하라는 의미로 각 열에 있는 행의 값을 계산하여 하나의 값으로 만든다."
   ]
  },
  {
   "cell_type": "code",
   "execution_count": 2,
   "id": "1b1a01d4-6434-43bd-9faf-7d83992d8e71",
   "metadata": {},
   "outputs": [
    {
     "name": "stdout",
     "output_type": "stream",
     "text": [
      "[[1 2]\n",
      " [3 4]]\n",
      "(2, 2)\n",
      "------------------------------\n",
      "[[[ 1  2  3]\n",
      "  [ 4  5  6]]\n",
      "\n",
      " [[ 7  8  9]\n",
      "  [10 11 12]]]\n",
      "(2, 2, 3)\n"
     ]
    }
   ],
   "source": [
    "import numpy as np\n",
    "\n",
    "array1 = np.array([[1,2],[3,4]])\n",
    "print(array1)\n",
    "print(array1.shape)\n",
    "print('-'*30)\n",
    "array2 = np.array([[[1,2,3],\n",
    "                   [4,5,6]],\n",
    "                   \n",
    "                   [[7,8,9],\n",
    "                   [10,11,12]]])\n",
    "print(array2)\n",
    "print(array2.shape)"
   ]
  },
  {
   "cell_type": "code",
   "execution_count": 29,
   "id": "3f759404-14a4-4ab9-9458-4841db6cc691",
   "metadata": {},
   "outputs": [
    {
     "name": "stdout",
     "output_type": "stream",
     "text": [
      "2차원 배열의 axis=0 기준 합:  [4 6]\n",
      "2차원 배열의 axis=1 기준 합:  [3 7]\n",
      "----------------------------------------\n",
      "3차원 배열의 axis=0 기준 합: \n",
      "[[ 8 10 12]\n",
      " [14 16 18]]\n",
      "3차원 배열의 axis=1 기준 합: \n",
      "[[ 5  7  9]\n",
      " [17 19 21]]\n",
      "3차원 배열의 axis=2 기준 합: \n",
      "[[ 6 15]\n",
      " [24 33]]\n"
     ]
    }
   ],
   "source": [
    "print('2차원 배열의 axis=0 기준 합: ', np.sum(array1, axis=0))\n",
    "print('2차원 배열의 axis=1 기준 합: ', np.sum(array1, axis=1))\n",
    "print('-' * 40)\n",
    "print('3차원 배열의 axis=0 기준 합: ')\n",
    "print(np.sum(array2, axis = 0))\n",
    "print('3차원 배열의 axis=1 기준 합: ')\n",
    "print(np.sum(array2, axis = 1))\n",
    "print('3차원 배열의 axis=2 기준 합: ')\n",
    "print(np.sum(array2, axis = 2))"
   ]
  },
  {
   "cell_type": "markdown",
   "id": "3c411f9e-2176-4556-87a4-0d8f316bc168",
   "metadata": {},
   "source": [
    "# Numpy 특징"
   ]
  },
  {
   "cell_type": "markdown",
   "id": "6334dd71-d7e2-4ef4-855d-711e91e87896",
   "metadata": {},
   "source": [
    "## Numpy의 ndarray가 빠른 이유\n",
    "- 동일한 연산일 경우 python에 비해 처리 속도가 빠름\n",
    "- ndarray는 타입을 명시하여 원소의 배열로 데이터를 유지\n",
    "  - 다차원 데이터도 연속된 메모리 공간이 할당됨"
   ]
  },
  {
   "cell_type": "markdown",
   "id": "447367b0-046d-4627-b145-1503fc7250e3",
   "metadata": {},
   "source": [
    "## Python의 list가 느린 이유\n",
    "- 파이썬의 리스트는 포인터(메모리 참조값)의 배열로 데이터를 관리\n",
    "- 경우에 따라서 각각 객체가 메모리 여기저기 흩어져 있음\n",
    "    - 캐시(cache) 활용이 어려움  \n",
    "![nsvp](numpy_vs_python.png)"
   ]
  },
  {
   "cell_type": "code",
   "execution_count": 5,
   "id": "b37646f5-b1e2-40e5-b9bf-3f6f68978e95",
   "metadata": {},
   "outputs": [],
   "source": [
    "ndarry = np.random.rand(1000,1000)\n",
    "python_list = ndarry.tolist() # 넘파이의 다차원 배열을 파이썬 리스트로 바꿀 때"
   ]
  },
  {
   "cell_type": "code",
   "execution_count": 6,
   "id": "ade5d551-ab48-48b0-a694-c1af6374d474",
   "metadata": {},
   "outputs": [
    {
     "name": "stdout",
     "output_type": "stream",
     "text": [
      "Python의 list를 사용해서 모든 원소에 1 더하기\n",
      "처리 시간:  0.26586318016052246\n",
      "Numpy의 ndarry를 사용해서 모든 원소에 1 더하기\n",
      "처리 시간:  0.008014202117919922\n"
     ]
    }
   ],
   "source": [
    "import time\n",
    "print('Python의 list를 사용해서 모든 원소에 1 더하기')\n",
    "start = time.time()\n",
    "result_list = []\n",
    "for inner_list in python_list:\n",
    "    temp_list = []\n",
    "    for e in inner_list:\n",
    "        temp_list.append(e + 1)\n",
    "    result_list.append(temp_list)\n",
    "end = time.time()\n",
    "print('처리 시간: ', (end - start))\n",
    "\n",
    "print('Numpy의 ndarry를 사용해서 모든 원소에 1 더하기')\n",
    "start = time.time()\n",
    "ndarry += 1\n",
    "end = time.time()\n",
    "print('처리 시간: ', (end - start))"
   ]
  },
  {
   "cell_type": "markdown",
   "id": "ee6db26d-f4da-4008-9158-c08955c70e57",
   "metadata": {},
   "source": [
    "# 배열 생성-1"
   ]
  },
  {
   "cell_type": "markdown",
   "id": "9a6f5406-0bb9-4602-aa3d-0bfe76067345",
   "metadata": {},
   "source": [
    "## np.array() 이용한 생성\n",
    "- 가장 기본적인 방법\n",
    "- Python의 list 또는 tuple로부터 배열을 생성한다.\n",
    "- 다차원 배열의 모든 원소는 동일한 데이터 타입을 가져야 한다. (파이썬의 리스트는 여러 데이터 타입을 혼용 가능)"
   ]
  },
  {
   "cell_type": "code",
   "execution_count": 7,
   "id": "92dbeb50-2250-4ce6-8f98-f27974247a3f",
   "metadata": {},
   "outputs": [
    {
     "name": "stdout",
     "output_type": "stream",
     "text": [
      "[0 1 2 3] <class 'numpy.ndarray'>\n"
     ]
    }
   ],
   "source": [
    "import numpy as np\n",
    "\n",
    "a = np.array([0,1,2,3])\n",
    "print(a, type(a))"
   ]
  },
  {
   "cell_type": "markdown",
   "id": "9b767209-241e-4f5c-9a3b-8bec2c78e9d4",
   "metadata": {},
   "source": [
    "### 정수형\n",
    "- int64, int32(default), int8, unit64 형이 있다."
   ]
  },
  {
   "cell_type": "code",
   "execution_count": 9,
   "id": "5ca7ad91-9415-4e2d-b641-45b88fa2a7c1",
   "metadata": {},
   "outputs": [
    {
     "name": "stdout",
     "output_type": "stream",
     "text": [
      "int64\n"
     ]
    }
   ],
   "source": [
    "intArray = np.array([[1,2],[3,4]], dtype = 'int64')\n",
    "print(intArray.dtype)"
   ]
  },
  {
   "cell_type": "markdown",
   "id": "74dc6f63-2833-4048-a72a-ef7323049ed7",
   "metadata": {},
   "source": [
    "### 실수형\n",
    "- float32, float64(default)"
   ]
  },
  {
   "cell_type": "code",
   "execution_count": 10,
   "id": "919de095-e1b2-4e7e-a3e9-9425f1bf51a8",
   "metadata": {},
   "outputs": [
    {
     "name": "stdout",
     "output_type": "stream",
     "text": [
      "float64\n"
     ]
    }
   ],
   "source": [
    "floatArray = np.array([[1.1, 2.2], [3.3, 4.4]])\n",
    "print(floatArray.dtype)"
   ]
  },
  {
   "cell_type": "markdown",
   "id": "3fb9c3ea-c643-4190-af3a-06a27910fb8c",
   "metadata": {},
   "source": [
    "### 논리형\n",
    "- bool"
   ]
  },
  {
   "cell_type": "code",
   "execution_count": 11,
   "id": "84bec2ab-e1d1-4d02-bbf7-a4988d27fb83",
   "metadata": {},
   "outputs": [
    {
     "name": "stdout",
     "output_type": "stream",
     "text": [
      "bool\n"
     ]
    }
   ],
   "source": [
    "boolArray = np.array([True, False, False, True])\n",
    "print(boolArray.dtype)"
   ]
  },
  {
   "cell_type": "markdown",
   "id": "34e7345a-67af-4c5e-a158-d9cfd057363d",
   "metadata": {},
   "source": [
    "### 형변환 \n",
    "- dtype 속성의 값을 통해 데이터 타입을 지정된 타입으로 강제 변환이 가능하다."
   ]
  },
  {
   "cell_type": "code",
   "execution_count": 13,
   "id": "9ad56839-3cdc-4ac0-ae1b-23f9762289fe",
   "metadata": {},
   "outputs": [
    {
     "name": "stdout",
     "output_type": "stream",
     "text": [
      "[1 2 3 4] int32\n"
     ]
    }
   ],
   "source": [
    "a = np.array(['1','2', 3, 4], dtype='int32')\n",
    "print(a, a.dtype)"
   ]
  },
  {
   "cell_type": "markdown",
   "id": "a67aed96-bed1-4e88-a9de-317f74eaa8d2",
   "metadata": {},
   "source": [
    "## np.arange()를 이용한 생성\n",
    "- 일련의 숫자를 만들기 위해 python의 range와 유사한 함수인 arange 함수를 제공한다."
   ]
  },
  {
   "cell_type": "code",
   "execution_count": 16,
   "id": "d56e79eb-c304-4ba6-808d-785556514d49",
   "metadata": {
    "scrolled": true
   },
   "outputs": [
    {
     "name": "stdout",
     "output_type": "stream",
     "text": [
      "[1 2 3 4 5 6 7 8 9]\n",
      "[10 15 20 25]\n"
     ]
    }
   ],
   "source": [
    "import numpy as np\n",
    "\n",
    "a = np.arange(1, 10)\n",
    "print(a)\n",
    "\n",
    "b = np.arange(10, 30, 5)\n",
    "print(b)"
   ]
  },
  {
   "cell_type": "markdown",
   "id": "2c4cbfe6-7d00-4ecc-97e3-d4ed6f353cba",
   "metadata": {},
   "source": [
    "# Numpy 배열의 주요 속성\n",
    "- ndarray 객체의 주요 속성은 다음과 같다.\n",
    "1. ndarray.shape\n",
    "   - numpy array의 구성(차원)을 튜플 타입으로 반환\n",
    "2. ndarray.dtype\n",
    "   - 배열 요소의 자료형을 반환\n",
    "3. ndarray.ndim\n",
    "   - dimension의 차수를 정수 값으로 반환\n",
    "4. ndarray.size\n",
    "   - 배열의 요소의 총 개수를 정수 값으로 반환\n",
    "5. ndarray.nbytes\n",
    "   - ndarray 객체의 메모리 크기 반환"
   ]
  },
  {
   "cell_type": "code",
   "execution_count": 7,
   "id": "3c27aa4d-bc26-4575-87e7-236191659460",
   "metadata": {},
   "outputs": [
    {
     "name": "stdout",
     "output_type": "stream",
     "text": [
      "10\n",
      "int32\n",
      "0\n",
      "()\n",
      "4\n",
      "1\n"
     ]
    }
   ],
   "source": [
    "# 단일 값(스칼라)\n",
    "import numpy as np\n",
    "a = np.array(10)\n",
    "print(a)\n",
    "print(a.dtype)\n",
    "print(a.ndim)\n",
    "print(a.shape)\n",
    "print(a.nbytes)\n",
    "print(a.size)"
   ]
  },
  {
   "cell_type": "code",
   "execution_count": 8,
   "id": "963115e9-05b1-44f4-9b48-9cfbe1eea468",
   "metadata": {
    "scrolled": true
   },
   "outputs": [
    {
     "name": "stdout",
     "output_type": "stream",
     "text": [
      "[1 2 3 4 5]\n",
      "int32\n",
      "1\n",
      "(5,)\n",
      "20\n",
      "5\n"
     ]
    }
   ],
   "source": [
    "# 1차원 배열\n",
    "a = np.array([1,2,3,4,5])\n",
    "print(a)\n",
    "print(a.dtype)\n",
    "print(a.ndim)\n",
    "print(a.shape)\n",
    "print(a.nbytes)\n",
    "print(a.size)"
   ]
  },
  {
   "cell_type": "code",
   "execution_count": 10,
   "id": "1e2dc92d-1246-47a1-9a61-9cf9faee4420",
   "metadata": {},
   "outputs": [
    {
     "name": "stdout",
     "output_type": "stream",
     "text": [
      "[[1 2]\n",
      " [3 4]\n",
      " [5 6]]\n",
      "int32\n",
      "2\n",
      "(3, 2)\n",
      "24\n",
      "6\n",
      "3\n"
     ]
    }
   ],
   "source": [
    "# 2차원 배열 : 3 X 2\n",
    "a = np.array([[1,2],[3,4],[5,6]])\n",
    "print(a)\n",
    "print(a.dtype)\n",
    "print(a.ndim)\n",
    "print(a.shape)\n",
    "print(a.nbytes)\n",
    "print(a.size) # 전체 요소의 개수\n",
    "print(len(a))"
   ]
  },
  {
   "cell_type": "code",
   "execution_count": 11,
   "id": "bdb58254-ecd6-4077-9def-431c13b3eae0",
   "metadata": {},
   "outputs": [
    {
     "name": "stdout",
     "output_type": "stream",
     "text": [
      "[[[ 1  2  3]\n",
      "  [ 4  5  6]]\n",
      "\n",
      " [[ 7  8  9]\n",
      "  [10 11 12]]]\n",
      "int32\n",
      "3\n",
      "(2, 2, 3)\n",
      "48\n",
      "12\n"
     ]
    }
   ],
   "source": [
    "# 3차원 배열 : 2 X 2 X 3\n",
    "a = np.array([[[1,2,3],[4,5,6]],[[7,8,9],[10,11,12]]])\n",
    "print(a)\n",
    "print(a.dtype)\n",
    "print(a.ndim)\n",
    "print(a.shape)\n",
    "print(a.nbytes)\n",
    "print(a.size)"
   ]
  },
  {
   "cell_type": "markdown",
   "id": "5fba8852-8be5-401e-9ba8-1f0932ac68fe",
   "metadata": {},
   "source": [
    "# 배열 생성 - 2"
   ]
  },
  {
   "cell_type": "markdown",
   "id": "16042e43-e01e-4b2a-94d0-ebb9b94f2265",
   "metadata": {},
   "source": [
    "## np.zeros()\n",
    "- 모든 요소가 0으로 이루어진 지정한 크기의 새로운 배열을 생성"
   ]
  },
  {
   "cell_type": "code",
   "execution_count": 20,
   "id": "94a61bdf-e92f-4177-880e-20c23a969dd8",
   "metadata": {},
   "outputs": [
    {
     "name": "stdout",
     "output_type": "stream",
     "text": [
      "[0. 0. 0. 0.]\n",
      "[0 0 0 0]\n",
      "[[0. 0. 0.]\n",
      " [0. 0. 0.]\n",
      " [0. 0. 0.]]\n",
      "[[0 0 0]\n",
      " [0 0 0]\n",
      " [0 0 0]]\n"
     ]
    }
   ],
   "source": [
    "a = np.zeros(4)\n",
    "print(a)\n",
    "b = np.zeros(4, dtype='int32')\n",
    "print(b)\n",
    "c = np.zeros((3,3))\n",
    "print(c)\n",
    "\n",
    "A = np.array([[1,2,3],[4,5,6],[7,8,9]])\n",
    "d = np.zeros_like(A) # 지정된 배열과 같은 모양의 0의 원소를 갖는 배열을 생성\n",
    "print(d)"
   ]
  },
  {
   "cell_type": "markdown",
   "id": "212f46da-db94-420b-a980-7cf66b83e7ed",
   "metadata": {},
   "source": [
    "## np.ones()\n",
    "- 모든 요소가 1로 이뤄진 지정한 크기의 새로운 배열을 생성"
   ]
  },
  {
   "cell_type": "code",
   "execution_count": 23,
   "id": "58376e68-5c21-4a0d-b528-56a319f73142",
   "metadata": {},
   "outputs": [
    {
     "name": "stdout",
     "output_type": "stream",
     "text": [
      "[[1. 1. 1.]\n",
      " [1. 1. 1.]]\n",
      "[[1 1 1]\n",
      " [1 1 1]]\n",
      "[[1 1 1]\n",
      " [1 1 1]\n",
      " [1 1 1]]\n"
     ]
    }
   ],
   "source": [
    "print(np.ones((2,3)))\n",
    "print(np.ones((2,3), dtype='int32'))\n",
    "\n",
    "A = np.array([[1,2,3],[4,5,6],[7,8,9]])\n",
    "d = np.ones_like(A) # 지정된 배열과 같은 모양의 1의 원소를 갖는 배열을 생성\n",
    "print(d)"
   ]
  },
  {
   "cell_type": "markdown",
   "id": "991b8763-77cb-4b0e-b138-7f354e7126dd",
   "metadata": {},
   "source": [
    "## np.full()\n",
    "- 지정한 크기에 입력한 특정 값으로 원소를 전부 채운 배열을 생성"
   ]
  },
  {
   "cell_type": "code",
   "execution_count": 27,
   "id": "12bad30c-6c90-4a64-bf2e-4305314720e3",
   "metadata": {},
   "outputs": [
    {
     "name": "stdout",
     "output_type": "stream",
     "text": [
      "[[10 10]\n",
      " [10 10]]\n",
      "[[0.3 0.3 0.3]\n",
      " [0.3 0.3 0.3]\n",
      " [0.3 0.3 0.3]]\n"
     ]
    }
   ],
   "source": [
    "print(np.full((2,2), 10))\n",
    "\n",
    "A = np.array([[1,2,3],[4,5,6],[7,8,9]])\n",
    "d = np.full_like(A, 0.3, dtype = 'float32') # 지정된 배열과 같은 모양의 1의 원소를 갖는 배열을 생성\n",
    "print(d)"
   ]
  },
  {
   "cell_type": "markdown",
   "id": "c87aafb0-5010-4feb-8bfa-e0585742bce7",
   "metadata": {},
   "source": [
    "# 배열 생성 - 3"
   ]
  },
  {
   "cell_type": "markdown",
   "id": "307949ab-5fcb-42c1-971f-f71f3f13d02b",
   "metadata": {},
   "source": [
    "## np.linspace()\n",
    "- start부터 stop의 범위에서 num개의 균일한 간격으로 분할한 배열을 생성"
   ]
  },
  {
   "cell_type": "code",
   "execution_count": 28,
   "id": "82e17efb-53ff-4a57-acbf-944d3812716d",
   "metadata": {},
   "outputs": [
    {
     "name": "stdout",
     "output_type": "stream",
     "text": [
      "[0.   0.25 0.5  0.75 1.   1.25 1.5  1.75 2.  ]\n"
     ]
    }
   ],
   "source": [
    "print(np.linspace(0, 2, 9)) # 0이상 2이하의 범위를 9개만큼 등분하여 요소를 생성"
   ]
  },
  {
   "cell_type": "code",
   "execution_count": 30,
   "id": "05e47e3f-6d99-47e7-89a7-20fd268a7ce5",
   "metadata": {},
   "outputs": [
    {
     "data": {
      "image/png": "[encoded data removed]",
      "text/plain": [
       "<Figure size 640x480 with 1 Axes>"
      ]
     },
     "metadata": {},
     "output_type": "display_data"
    }
   ],
   "source": [
    "import matplotlib.pyplot as plt\n",
    "\n",
    "x = np.linspace(0, 2*np.pi, 100)\n",
    "y = np.sin(x)\n",
    "\n",
    "plt.plot(x,y)\n",
    "plt.show()"
   ]
  },
  {
   "cell_type": "markdown",
   "id": "ab203fb6-a8c1-4bc5-8a29-903f389c0544",
   "metadata": {},
   "source": [
    "## np.identity(), np.eye()\n",
    "- 지정한 크기의 정방 단위 행렬을 생성\n",
    "    - 정방 행렬 : 행과 열의 크기가 같은 정사각형 행렬\n",
    "    - 단위 행렬 : 주대각선의 원소가 모두 1이며 나머지 원소는 모두 0인 행렬"
   ]
  },
  {
   "cell_type": "code",
   "execution_count": 37,
   "id": "f68f7086-8d45-4761-8530-e1c4a7d4cc1e",
   "metadata": {
    "scrolled": true
   },
   "outputs": [
    {
     "name": "stdout",
     "output_type": "stream",
     "text": [
      "[[1 0]\n",
      " [0 1]]\n",
      "[[1. 0. 0. 0.]\n",
      " [0. 1. 0. 0.]\n",
      " [0. 0. 1. 0.]]\n",
      "------------------------------\n",
      "[[0. 1. 0. 0.]\n",
      " [0. 0. 1. 0.]\n",
      " [0. 0. 0. 1.]]\n",
      "------------------------------\n",
      "[[0. 0. 0. 0.]\n",
      " [1. 0. 0. 0.]\n",
      " [0. 1. 0. 0.]]\n"
     ]
    }
   ],
   "source": [
    "print(np.identity(2, dtype = 'int32'))\n",
    "print(np.eye(3, 4)) # eye 함수는 행과 열의 크기가 다른 단위 행렬도 만들 수 있다.\n",
    "print('-' * 30)\n",
    "# 세 번째 값 : 양수 값은 위쪽 대각선(열)을 음수 값은 아래쪽 대각선(행)을 나타낸다.\n",
    "print(np.eye(3, 4, 1))\n",
    "print('-' * 30)\n",
    "print(np.eye(3, 4, -1))"
   ]
  },
  {
   "cell_type": "markdown",
   "id": "003e5d0a-bb7d-4a4a-be46-e3403a7664bb",
   "metadata": {},
   "source": [
    "# 배열의 변경"
   ]
  },
  {
   "cell_type": "markdown",
   "id": "e6359594-7cca-4625-8b80-cece30f66cdc",
   "metadata": {},
   "source": [
    "## np.reshape() / ndarray.reshape()\n",
    "- `원본을 변경하지 않고 모양이 변경된 새로운 배열을 반환`"
   ]
  },
  {
   "cell_type": "code",
   "execution_count": 49,
   "id": "1ab0e968-c06c-4cd4-abff-7d346a8f0e67",
   "metadata": {
    "scrolled": true
   },
   "outputs": [
    {
     "name": "stdout",
     "output_type": "stream",
     "text": [
      "[0 1 2 3 4 5]\n",
      "[[0 1]\n",
      " [2 3]\n",
      " [4 5]]\n",
      "[0 1 2 3 4 5]\n",
      "------------------------------\n",
      "[[0 1]\n",
      " [2 3]\n",
      " [4 5]]\n",
      "------------------------------\n",
      "[[ 1  2  3  4  5]\n",
      " [ 6  7  8  9 10]]\n",
      "------------------------------\n",
      "[[[ 1]\n",
      "  [ 2]]\n",
      "\n",
      " [[ 3]\n",
      "  [ 4]]\n",
      "\n",
      " [[ 5]\n",
      "  [ 6]]\n",
      "\n",
      " [[ 7]\n",
      "  [ 8]]\n",
      "\n",
      " [[ 9]\n",
      "  [10]]]\n",
      "------------------------------\n",
      "[ 1  2  3  4  5  6  7  8  9 10]\n"
     ]
    }
   ],
   "source": [
    "a = np.arange(6)\n",
    "print(a)\n",
    "\n",
    "b = a.reshape((3,2)) # np.reshape(a,(3,2))과 동일\n",
    "print(b)\n",
    "print(a) # 원본 배열은 모양이 변하지 않는다.\n",
    "print('-'*30)\n",
    "# 열의 크기를 2로 맞추고 행의 크기는 전체 요소 개수에 맞춰 알아서 지정한다.\n",
    "c = np.reshape(a, (-1,2))  \n",
    "print(c)\n",
    "print('-'*30)\n",
    "d = np.arange(1, 11).reshape(2, 5)\n",
    "print(d)\n",
    "print('-'*30)\n",
    "e = d.reshape((-1, 2, 1))\n",
    "print(e)\n",
    "print('-'*30)\n",
    "f = e.reshape(-1) # -1의 의미는 행렬의 값이 없으므로 요소를 한 줄로 나타내게 된다.\n",
    "print(f)"
   ]
  },
  {
   "cell_type": "markdown",
   "id": "dc8dd5d3-972d-4e6d-944a-ab5e4aa1e615",
   "metadata": {},
   "source": [
    "## ndarray.resize()\n",
    "- 원본 배열을 새로운 모양의 배열로 변경한다.\n",
    "- 대상 배열의 요소의 개수가 원래 배열과 동일하지 않으면 크기를 강제로 조정한다."
   ]
  },
  {
   "cell_type": "code",
   "execution_count": 51,
   "id": "38c9d9f4-6332-45dc-9c94-9845a65feb15",
   "metadata": {},
   "outputs": [
    {
     "name": "stdout",
     "output_type": "stream",
     "text": [
      "[[ 0  1  2  3]\n",
      " [ 4  5  6  7]\n",
      " [ 8  9 10 11]]\n",
      "------------------------------\n",
      "[[ 0  1  2  3]\n",
      " [ 4  5  6  7]\n",
      " [ 8  9 10 11]\n",
      " [ 0  0  0  0]]\n"
     ]
    }
   ],
   "source": [
    "a = np.arange(12)\n",
    "a.resize((3,4))\n",
    "print(a)\n",
    "print('-'*30)\n",
    "a.resize((4,4)) # 원본과 크기가 달라도 오류가 발생하지 않는다.\n",
    "print(a) "
   ]
  },
  {
   "cell_type": "markdown",
   "id": "3a7ad396-1684-4fa8-9c98-6f3ba467f40d",
   "metadata": {},
   "source": [
    "## ndarray.flatten() / ndarray.ravel()\n",
    "- 배열을 1차원으로 만든다.\n",
    "- flatten() : 배열을 복사해서 1차원으로 변경 -> **원본에 영향을 미치지 않는다.**\n",
    "- ravel() : 원본을 복사하지 않는다. 따라서 값을 수정하면 원본 값도 수정된다."
   ]
  },
  {
   "cell_type": "code",
   "execution_count": 55,
   "id": "d0eed47b-9ac2-41c6-a344-aac32328d555",
   "metadata": {},
   "outputs": [
    {
     "name": "stdout",
     "output_type": "stream",
     "text": [
      "[[1 2]\n",
      " [3 4]]\n",
      "[1 2 3 4]\n",
      "[[1 2]\n",
      " [3 4]]\n"
     ]
    }
   ],
   "source": [
    "import numpy as np\n",
    "\n",
    "a = np.arange(1,5).reshape((2,2))\n",
    "print(a)\n",
    "print(a.flatten())\n",
    "print(a)"
   ]
  },
  {
   "cell_type": "code",
   "execution_count": 61,
   "id": "14638f3c-9abd-4d3a-a37f-189b85ca6cf8",
   "metadata": {},
   "outputs": [
    {
     "name": "stdout",
     "output_type": "stream",
     "text": [
      "[10  2  3  4]\n",
      "[[10  2]\n",
      " [ 3  4]]\n",
      "[[10  2]\n",
      " [ 3  4]]\n"
     ]
    }
   ],
   "source": [
    "b = a.ravel()\n",
    "print(b)\n",
    "# print(a)\n",
    "b[0] = 10\n",
    "print(a)"
   ]
  },
  {
   "cell_type": "markdown",
   "id": "fc6445b0-0461-4602-b9b9-6613a56d4610",
   "metadata": {},
   "source": [
    "## np.expand_dims()\n",
    "- 지정한 axis의 위치에 새로운 차원을 추가한다."
   ]
  },
  {
   "cell_type": "code",
   "execution_count": 70,
   "id": "48e25a32-2e9d-43c2-acad-983cb1a4935b",
   "metadata": {},
   "outputs": [
    {
     "name": "stdout",
     "output_type": "stream",
     "text": [
      "[1 2]\n",
      "(2,)\n",
      "------------------------------\n",
      "[[1 2]]\n",
      "(1, 2)\n",
      "------------------------------\n",
      "[[1]\n",
      " [2]]\n",
      "(2, 1)\n"
     ]
    }
   ],
   "source": [
    "a = np.array([1,2])\n",
    "print(a)\n",
    "print(a.shape)\n",
    "print('-'*30)\n",
    "b = np.expand_dims(a, axis = 0)\n",
    "print(b)\n",
    "print(b.shape) \n",
    "print('-'*30)\n",
    "c = np.expand_dims(a, axis = 1)\n",
    "print(c)\n",
    "print(c.shape)"
   ]
  },
  {
   "cell_type": "code",
   "execution_count": 75,
   "id": "a88c8f5d-386d-4394-b586-ae0840f3597a",
   "metadata": {},
   "outputs": [
    {
     "name": "stdout",
     "output_type": "stream",
     "text": [
      "[[1 2 3]\n",
      " [4 5 6]]\n",
      "(2, 3)\n",
      "[[[1 2 3]\n",
      "  [4 5 6]]]\n",
      "(1, 2, 3)\n",
      "------------------------------\n",
      "[[[1 2 3]]\n",
      "\n",
      " [[4 5 6]]]\n",
      "(2, 1, 3)\n",
      "------------------------------\n",
      "[[[1]\n",
      "  [2]\n",
      "  [3]]\n",
      "\n",
      " [[4]\n",
      "  [5]\n",
      "  [6]]]\n",
      "(2, 3, 1)\n"
     ]
    }
   ],
   "source": [
    "a = np.arange(1, 7).reshape((2,3))\n",
    "print(a)\n",
    "print(a.shape)\n",
    "\n",
    "b = np.expand_dims(a, axis = 0)\n",
    "print(b)\n",
    "print(b.shape)\n",
    "print('-'*30)\n",
    "\n",
    "c= np.expand_dims(a, axis = 1)\n",
    "print(c)\n",
    "print(c.shape)\n",
    "print('-'*30)\n",
    "\n",
    "d = np.expand_dims(a, axis = 2)\n",
    "print(d)\n",
    "print(d.shape)"
   ]
  },
  {
   "cell_type": "markdown",
   "id": "cdaf289e-9d4a-4623-b0c3-74fca8df6e65",
   "metadata": {},
   "source": [
    "- np.newaxis를 이용해서 차원을 늘릴 수도 있다."
   ]
  },
  {
   "cell_type": "code",
   "execution_count": 78,
   "id": "a244beff-eba3-4b29-ba7b-ccc0f53b2d05",
   "metadata": {},
   "outputs": [
    {
     "name": "stdout",
     "output_type": "stream",
     "text": [
      "[0 1 2 3]\n",
      "[[0 1 2 3]]\n",
      "[[0]\n",
      " [1]\n",
      " [2]\n",
      " [3]]\n"
     ]
    }
   ],
   "source": [
    "a = np.arange(4)\n",
    "print(a)\n",
    "\n",
    "row_vect = a[np.newaxis, :] # 새로운 행 축 추가 \n",
    "print(row_vect)\n",
    "\n",
    "col_vect = a[:, np.newaxis] # 새로운 열 축 추가\n",
    "print(col_vect)"
   ]
  },
  {
   "cell_type": "markdown",
   "id": "769d85a3-fb98-486e-9773-299d78dceb20",
   "metadata": {},
   "source": [
    "## np.astype() / ndarray.astype()\n",
    "- 배열의 타입을 변경"
   ]
  },
  {
   "cell_type": "code",
   "execution_count": 80,
   "id": "bf6f1b85-df9a-44ac-8838-3a0055a75bd0",
   "metadata": {},
   "outputs": [
    {
     "name": "stdout",
     "output_type": "stream",
     "text": [
      "[1 2 3]\n",
      "int32\n",
      "[1. 2. 3.]\n",
      "float32\n"
     ]
    }
   ],
   "source": [
    "a = np.arange(1,4)\n",
    "print(a)\n",
    "print(a.dtype)\n",
    "\n",
    "a_float = a.astype('float32') # a.astype(np.float32)\n",
    "print(a_float)\n",
    "print(a_float.dtype)"
   ]
  },
  {
   "cell_type": "markdown",
   "id": "bcfdaebe-6407-4e3e-9601-a96bcedb9d8d",
   "metadata": {},
   "source": [
    "## np.squeeze()\n",
    "- 차원 축소"
   ]
  },
  {
   "cell_type": "code",
   "execution_count": 88,
   "id": "001bb808-df67-4690-92aa-882f9911cfb7",
   "metadata": {},
   "outputs": [
    {
     "name": "stdout",
     "output_type": "stream",
     "text": [
      "[[[1]\n",
      "  [2]\n",
      "  [3]]]\n",
      "(1, 3, 1)\n",
      "------------------------------\n",
      "[1 2 3]\n",
      "(3,)\n",
      "------------------------------\n",
      "[[1]\n",
      " [2]\n",
      " [3]]\n",
      "(3, 1)\n"
     ]
    }
   ],
   "source": [
    "a = np.arange(1,4).reshape((1,3,1))\n",
    "print(a)\n",
    "print(a.shape)\n",
    "print('-'*30)\n",
    "\n",
    "b = np.squeeze(a) # 축 옵션을 지정하지 않으면 1차원으로 변경\n",
    "print(b)\n",
    "print(b.shape)\n",
    "print('-'*30)\n",
    "\n",
    "c = np.squeeze(a, axis = 0)\n",
    "print(c)\n",
    "print(c.shape)\n",
    "\n",
    "# 원본의 원소 개수와 일치되지 않아 ValueError를 발생\n",
    "# d = np.squeeze(a, axis = 1)\n",
    "# print(d)\n",
    "# print(d.shape)"
   ]
  },
  {
   "cell_type": "markdown",
   "id": "48c81673-3475-4209-9de5-91020f21197f",
   "metadata": {},
   "source": [
    "## np.concatenate()\n",
    "- 두 개 이상의 배열을 연결한다.\n",
    "- 배열을 연결하려면 차원 수가 같아야 한다.\n",
    "- axis 인수를 설정하여 연결 방향을 정할 수 있다. (default:axis=0)"
   ]
  },
  {
   "cell_type": "code",
   "execution_count": 93,
   "id": "c7161b88-09aa-40fa-a795-959626d00c3e",
   "metadata": {},
   "outputs": [
    {
     "name": "stdout",
     "output_type": "stream",
     "text": [
      "[[1 2]\n",
      " [3 4]]\n",
      "[5 6]\n",
      "[[1 2]\n",
      " [3 4]\n",
      " [5 6]]\n"
     ]
    }
   ],
   "source": [
    "a = np.arange(1, 5).reshape((2,2))\n",
    "print(a)\n",
    "b = np.array([5,6])\n",
    "print(b)\n",
    "\n",
    "# c = np.concatenate((a,b)) # 차원 수가 다르기 때문에 에러\n",
    "c = np.concatenate((a, np.expand_dims(b, axis = 0)))\n",
    "print(c)"
   ]
  },
  {
   "cell_type": "code",
   "execution_count": 95,
   "id": "8e17c1bf-f885-4f71-9d5a-b3de5662b79c",
   "metadata": {},
   "outputs": [
    {
     "name": "stdout",
     "output_type": "stream",
     "text": [
      "[[1 2 1 3 5]\n",
      " [3 4 2 4 6]]\n"
     ]
    }
   ],
   "source": [
    "e = np.concatenate((a, c.T), axis=1) # .T는 주대각선을 기준으로 전치\n",
    "print(e)"
   ]
  },
  {
   "cell_type": "markdown",
   "id": "218b1687-fc85-485b-9646-e4d9ed5bdbbf",
   "metadata": {},
   "source": [
    "# 기본 연산\n",
    "- 배열에 대한 산술 연산자는 **요소별(element-wise)**로 적용된다."
   ]
  },
  {
   "cell_type": "markdown",
   "id": "d5259c5b-afd4-4034-a34a-65d6415e7066",
   "metadata": {},
   "source": [
    "## 산술 연산"
   ]
  },
  {
   "cell_type": "code",
   "execution_count": 102,
   "id": "94947b39-af32-41d5-ac5e-f3f35bdb4761",
   "metadata": {},
   "outputs": [
    {
     "name": "stdout",
     "output_type": "stream",
     "text": [
      "5.0\n",
      "------------------------------\n",
      "[[0. 1. 2.]\n",
      " [3. 4. 5.]\n",
      " [6. 7. 8.]]\n",
      "------------------------------\n",
      "[0. 1. 2.]\n",
      "------------------------------\n",
      "[[ 0.  2.  4.]\n",
      " [ 3.  5.  7.]\n",
      " [ 6.  8. 10.]]\n",
      "[[0. 0. 0.]\n",
      " [3. 3. 3.]\n",
      " [6. 6. 6.]]\n",
      "------------------------------\n",
      "[[ 0.  1.  4.]\n",
      " [ 0.  4. 10.]\n",
      " [ 0.  7. 16.]]\n",
      "------------------------------\n",
      "[[0.   0.25 0.5 ]\n",
      " [0.75 1.   1.25]\n",
      " [1.5  1.75 2.  ]]\n"
     ]
    }
   ],
   "source": [
    "import numpy as np\n",
    "\n",
    "# 덧셈\n",
    "a = np.add(1.0, 4.0)\n",
    "print(a)\n",
    "print('-'*30)\n",
    "a = np.arange(9.0).reshape((3,3))\n",
    "print(a)\n",
    "print('-'*30)\n",
    "b = np.arange(3.0)\n",
    "print(b)\n",
    "print('-'*30)\n",
    "print(np.add(a,b))\n",
    "\n",
    "# 뺄셈\n",
    "print(np.subtract(a,b)) # a - b\n",
    "print('-'*30)\n",
    "\n",
    "# 곱셈\n",
    "print(np.multiply(a,b)) # a * b\n",
    "print('-'*30)\n",
    "\n",
    "# 나눗셈\n",
    "print(np.divide(a,4))"
   ]
  },
  {
   "cell_type": "markdown",
   "id": "0f950fdd-9000-42bf-a0e3-dcad894ed0ff",
   "metadata": {},
   "source": [
    "## 통계 연산\n",
    "- 통계 연산은 axis와 밀접한 관계가 있다.\n",
    "- 축 값을 입력하지 않으면 모든 원소에 대한 연산 결과를 출력한다."
   ]
  },
  {
   "cell_type": "markdown",
   "id": "15815cd0-4a1d-4e80-857c-27f59b1952cb",
   "metadata": {},
   "source": [
    "### np.sum()"
   ]
  },
  {
   "cell_type": "code",
   "execution_count": 105,
   "id": "aaf39a95-0d09-49ce-9186-481d8a823a92",
   "metadata": {},
   "outputs": [
    {
     "name": "stdout",
     "output_type": "stream",
     "text": [
      "[[ 0  1  2  3]\n",
      " [ 4  5  6  7]\n",
      " [ 8  9 10 11]]\n",
      "66\n",
      "[12 15 18 21]\n",
      "[ 6 22 38]\n",
      "[[ 0  1  3  6]\n",
      " [ 4  9 15 22]\n",
      " [ 8 17 27 38]]\n"
     ]
    }
   ],
   "source": [
    "a = np.arange(12).reshape((3,4))\n",
    "print(a)\n",
    "print(a.sum()) # np.sum(a)\n",
    "print(a.sum(axis = 0)) # 각 열의 합\n",
    "print(a.sum(axis = 1)) # 각 행의 합\n",
    "print(a.cumsum(axis=1)) # 각 행의 누적 합"
   ]
  },
  {
   "cell_type": "markdown",
   "id": "9fada996-8ff1-4d2b-b362-51cf630a3237",
   "metadata": {},
   "source": [
    "### np.mean()\n",
    "- 축을 따라 산술 평균을 계산"
   ]
  },
  {
   "cell_type": "code",
   "execution_count": 106,
   "id": "a847fbcf-63f7-4789-af77-04c18adcd09a",
   "metadata": {},
   "outputs": [
    {
     "name": "stdout",
     "output_type": "stream",
     "text": [
      "[[1 2 3]\n",
      " [4 5 6]\n",
      " [7 8 9]]\n",
      "[4. 5. 6.]\n",
      "[2. 5. 8.]\n",
      "5.0\n"
     ]
    }
   ],
   "source": [
    "a = np.arange(1,10).reshape((3,3))\n",
    "print(a)\n",
    "\n",
    "# 위치인수를 주면 축 값으로 인식 \n",
    "print(np.mean(a,0)) # 열 평균\n",
    "print(np.mean(a, 1)) # 행 평균\n",
    "print(np.mean(a)) # 모든 원소의 평균"
   ]
  },
  {
   "cell_type": "markdown",
   "id": "bbd2819f-679c-4d44-819d-26077bf5f5aa",
   "metadata": {},
   "source": [
    "### np.average()\n",
    "- 주어진 축에 따라 가중평균 계산\n",
    "- avg = sum(a * weight) / sum(weight)"
   ]
  },
  {
   "cell_type": "code",
   "execution_count": 108,
   "id": "38633548-f154-4fc7-a6ac-288ec41726ba",
   "metadata": {},
   "outputs": [
    {
     "name": "stdout",
     "output_type": "stream",
     "text": [
      "[[0 1]\n",
      " [2 3]\n",
      " [4 5]]\n",
      "[0.75 2.75 4.75]\n"
     ]
    }
   ],
   "source": [
    "a = np.arange(6).reshape((3, 2))\n",
    "print(a)\n",
    "# 0.75 = sum(0*(1/4) + 1*(3/4)) / sum(1/4+3/4)\n",
    "print(np.average(a, axis = 1, weights=[1/4, 3/4])) # weights는 각 열에 부여한 가중치"
   ]
  },
  {
   "cell_type": "markdown",
   "id": "ec889521-2ce1-4e63-92a3-64abea1c3874",
   "metadata": {},
   "source": [
    "### np.max() / np.min()\n",
    "- axis를 따른 배열의 최대/최소값 반환"
   ]
  },
  {
   "cell_type": "markdown",
   "id": "fb87f06b-d4ea-4bdb-9426-0c694b22effe",
   "metadata": {},
   "source": [
    "### np.median()\n",
    "- axis를 따른 배열의 중앙값 반환"
   ]
  },
  {
   "cell_type": "markdown",
   "id": "e786f176-c028-4df9-bc39-2f1439421964",
   "metadata": {},
   "source": [
    "### np.var() / np.std()\n",
    "- axis를 따른 배열의 분산, 표준편차를 반환"
   ]
  },
  {
   "cell_type": "markdown",
   "id": "6293c59e-b864-4bec-9580-d0f1d19f1bfd",
   "metadata": {},
   "source": [
    "### np.maximum()\n",
    "- 두 개의 배열을 가져와 요소별 최대값 반환"
   ]
  },
  {
   "cell_type": "code",
   "execution_count": 109,
   "id": "367ecf2d-469b-4e40-9bc8-c8e391e50d13",
   "metadata": {},
   "outputs": [
    {
     "name": "stdout",
     "output_type": "stream",
     "text": [
      "[4 6 9]\n"
     ]
    }
   ],
   "source": [
    "a = np.array([3,6,1])\n",
    "b = np.array([4,2,9])\n",
    "print(np.maximum(a,b)) #  각 인덱스마다 3과 4, 6과 2, 1과 9를 비교"
   ]
  },
  {
   "cell_type": "markdown",
   "id": "b83866e1-4072-4bff-ae9a-b2e46f3b7a7c",
   "metadata": {},
   "source": [
    "## 최소값, 최대값 아규먼트 위치\n",
    "- np.argmax() : 제일 큰 값 위치 정보\n",
    "- np.argmin() : 제일 작은 값 위치 정보\n",
    "- np.where(조건) : 조건에 맞는 값 위치 정보\n",
    "- np.where(조건, 조건에 맞을 때 값, 조건과 다를 때 )"
   ]
  },
  {
   "cell_type": "code",
   "execution_count": 112,
   "id": "be5f2f5b-7d1b-4b2d-96d6-be34b0c52661",
   "metadata": {},
   "outputs": [
    {
     "name": "stdout",
     "output_type": "stream",
     "text": [
      "4\n",
      "3\n"
     ]
    }
   ],
   "source": [
    "import numpy as np\n",
    "a = np.array([5,6,8,1,9,3,4,7])\n",
    "print(np.argmax(a))\n",
    "print(np.argmin(a))"
   ]
  },
  {
   "cell_type": "code",
   "execution_count": 114,
   "id": "8a0ab352-6757-4f44-82b0-f1ef65c7eb67",
   "metadata": {},
   "outputs": [
    {
     "name": "stdout",
     "output_type": "stream",
     "text": [
      "(array([1, 2, 4, 7], dtype=int64),)\n",
      "[-1  1  1 -1  1 -1 -1  1]\n",
      "[0 6 8 0 9 0 0 7]\n"
     ]
    }
   ],
   "source": [
    "print(np.where(a>5))\n",
    "print(np.where(a>5,1,-1))\n",
    "print(np.where(a>5, a, 0))"
   ]
  },
  {
   "cell_type": "markdown",
   "id": "81f4854d-e163-43cf-bd8a-83763e55fead",
   "metadata": {},
   "source": [
    "## 비교 연산\n",
    "- 연산자를 이용하여 요소별 비교"
   ]
  },
  {
   "cell_type": "code",
   "execution_count": 116,
   "id": "a65294d5-7c4b-4881-b952-8b066af77e4b",
   "metadata": {},
   "outputs": [
    {
     "name": "stdout",
     "output_type": "stream",
     "text": [
      "[ True  True  True]\n",
      "[False  True False]\n"
     ]
    }
   ],
   "source": [
    "a = np.array([1,2,3])\n",
    "b = np.array([1,2,3])\n",
    "c = np.array([3,2,5])\n",
    "print(a==b)\n",
    "print(a==c)"
   ]
  },
  {
   "cell_type": "code",
   "execution_count": 119,
   "id": "05021c13-7bff-4730-8b6f-1071819b4d80",
   "metadata": {},
   "outputs": [
    {
     "name": "stdout",
     "output_type": "stream",
     "text": [
      "[[1 2 3]\n",
      " [4 5 6]\n",
      " [7 8 9]]\n",
      "[[False  True False]\n",
      " [ True False  True]\n",
      " [False  True False]]\n"
     ]
    }
   ],
   "source": [
    "a = np.arange(1, 10).reshape((3,3))\n",
    "print(a)\n",
    "result = a % 2 == 0\n",
    "print(result)"
   ]
  },
  {
   "cell_type": "markdown",
   "id": "fb4dcdef-f1ed-4c07-9855-46959921d792",
   "metadata": {},
   "source": [
    "### all(), any()를 이용한 비교\n",
    "- all() : 요소 전체가 같아야 하나의 True\n",
    "- any() : 요소 전체중 하나만 같아도 True"
   ]
  },
  {
   "cell_type": "code",
   "execution_count": 123,
   "id": "a9a3c8ed-0867-458f-a564-58761a718dd3",
   "metadata": {},
   "outputs": [
    {
     "name": "stdout",
     "output_type": "stream",
     "text": [
      "True\n",
      "False\n",
      "True\n",
      "True\n"
     ]
    }
   ],
   "source": [
    "a = np.array([1,2,3])\n",
    "b = np.array([1,2,3])\n",
    "c = np.array([3,2,5])\n",
    "\n",
    "print(np.all(a == b))\n",
    "print(np.all(a==c))\n",
    "\n",
    "print(np.any(a == b))\n",
    "print(np.any(a==c))"
   ]
  },
  {
   "cell_type": "markdown",
   "id": "6dd4dd6a-237c-461f-a6c2-be5dc3b32617",
   "metadata": {},
   "source": [
    "## 논리 연산\n",
    "- np.logical_and(), np.logical_or(), np.logical_not(), np.logical_xor()"
   ]
  },
  {
   "cell_type": "code",
   "execution_count": 128,
   "id": "27f2bc4b-5e2e-4df3-8666-deb1d8d5cc5f",
   "metadata": {},
   "outputs": [
    {
     "name": "stdout",
     "output_type": "stream",
     "text": [
      "X 행렬:\n",
      "[[ 1  2  3  4  5]\n",
      " [ 6  7  8  9 10]]\n",
      "------------------------------\n",
      "Y 행렬: 짝수면 True, 홀수면 False\n",
      "[[False  True False  True False]\n",
      " [ True False  True False  True]]\n",
      "------------------------------\n",
      "Z 행렬: 4보다 크면 True, 작으면 False\n",
      "[[False False False  True  True]\n",
      " [ True  True  True  True  True]]\n",
      "------------------------------\n",
      "Y and Z 행렬\n",
      "[[False False False  True False]\n",
      " [ True False  True False  True]]\n",
      "------------------------------\n",
      "Y and Z 조건을 만족하는 요소\n",
      "[ 4  6  8 10]\n",
      "------------------------------\n",
      "[5 7 9]\n"
     ]
    }
   ],
   "source": [
    "x = np.arange(1,11).reshape((2,5))\n",
    "print('X 행렬:')\n",
    "print(x)\n",
    "print('-'*30)\n",
    "\n",
    "y = x % 2 == 0\n",
    "print('Y 행렬: 짝수면 True, 홀수면 False')\n",
    "print(y)\n",
    "print('-'*30)\n",
    "\n",
    "z = x >= 4\n",
    "print('Z 행렬: 4보다 크면 True, 작으면 False')\n",
    "print(z)\n",
    "print('-'*30)\n",
    "\n",
    "print('Y and Z 행렬')\n",
    "print(np.logical_and(y,z))\n",
    "print('-'*30)\n",
    "print('Y and Z 조건을 만족하는 요소')\n",
    "print(x[np.logical_and(y,z)])\n",
    "print('-'*30)\n",
    "print('홀수이면서 4 이상인 요소')\n",
    "print(x[np.logical_and(~y, z)]) # ~는 not(부정) 연산자"
   ]
  },
  {
   "cell_type": "markdown",
   "id": "e6f146f5-bc6c-473b-a341-5fdaaf013aad",
   "metadata": {},
   "source": [
    "## 정렬"
   ]
  },
  {
   "cell_type": "code",
   "execution_count": 129,
   "id": "75b0b8a8-4077-40d2-a00d-18b54f53dce8",
   "metadata": {},
   "outputs": [
    {
     "name": "stdout",
     "output_type": "stream",
     "text": [
      "[10 37 16  1 29 26 30 49 30  9]\n"
     ]
    }
   ],
   "source": [
    "import numpy as np\n",
    "\n",
    "np.random.seed(10)\n",
    "data = np.random.randint(1, 50, 10) # 넘파이의 randint는 end 값을 포함하지 않음\n",
    "print(data)"
   ]
  },
  {
   "cell_type": "markdown",
   "id": "05b0b400-4ca3-4ab4-98eb-ad986718174e",
   "metadata": {},
   "source": [
    "### np.sort()\n",
    "- 데이터를 오름차순으로 정렬한다.\n",
    "- 내림차순으로 정렬하는 별도의 옵션은 없다."
   ]
  },
  {
   "cell_type": "code",
   "execution_count": 136,
   "id": "a8174868-66c3-48fb-ba7b-f305c29ce2e0",
   "metadata": {},
   "outputs": [
    {
     "name": "stdout",
     "output_type": "stream",
     "text": [
      "[49 37 30 30 29 26 16 10  9  1]\n"
     ]
    }
   ],
   "source": [
    "print(np.sort(data)[::-1])"
   ]
  },
  {
   "cell_type": "markdown",
   "id": "89b91741-dc16-4bd3-a3da-e8bccf9c7650",
   "metadata": {},
   "source": [
    "### np.argsort()\n",
    "- 오름차순으로 정렬한 데이터의 정렬 전 인덱스 값을 반환한다."
   ]
  },
  {
   "cell_type": "code",
   "execution_count": 137,
   "id": "7aea7df9-dad0-4d2b-b4c8-3518ee3bdcd1",
   "metadata": {},
   "outputs": [
    {
     "name": "stdout",
     "output_type": "stream",
     "text": [
      "[3 9 0 2 5 4 6 8 1 7]\n"
     ]
    }
   ],
   "source": [
    "print(np.argsort(data))"
   ]
  },
  {
   "cell_type": "markdown",
   "id": "6ce8160e-701a-4120-9390-778fa356ed50",
   "metadata": {},
   "source": [
    "[문제] 학생 이름과 점수 데이터를 이용하여 성적이 우수한 학생 순서로 이름을 출력하세요."
   ]
  },
  {
   "cell_type": "code",
   "execution_count": 149,
   "id": "8fc594f0-cbba-44e9-bed3-7ea08aec2ea1",
   "metadata": {},
   "outputs": [
    {
     "name": "stdout",
     "output_type": "stream",
     "text": [
      "['저팔계' '삼장법사' '사오정' '홍길동' '전우치']\n"
     ]
    }
   ],
   "source": [
    "name = ['홍길동','저팔계','사오정','전우치','삼장법사']\n",
    "score = [75, 100, 95, 56, 99]\n",
    "\n",
    "name = np.array(name)\n",
    "score = np.array(score)\n",
    "sorted_idx = np.argsort(score)\n",
    "print(name[sorted_idx][::-1])"
   ]
  },
  {
   "cell_type": "markdown",
   "id": "6f69d2ed-2f6c-438f-9c59-bdbf610a7ad4",
   "metadata": {},
   "source": [
    "# 행렬연산"
   ]
  },
  {
   "cell_type": "markdown",
   "id": "52b3ff25-8847-4a50-8e68-4fbcf1eacf92",
   "metadata": {},
   "source": [
    "## *연산자\n",
    "- 형태(shape)가 동일한 두 행렬을 원소끼리 곱하는 연산자\n",
    "- 교환법칙 성립: A * B == B * A"
   ]
  },
  {
   "cell_type": "code",
   "execution_count": 152,
   "id": "25b94c36-1a17-47af-9d81-87066cd76146",
   "metadata": {},
   "outputs": [
    {
     "name": "stdout",
     "output_type": "stream",
     "text": [
      "[[2 0]\n",
      " [0 4]]\n",
      "[[2 0]\n",
      " [0 4]]\n"
     ]
    }
   ],
   "source": [
    "import numpy as np\n",
    "\n",
    "a = np.array([[1,1],[0,1]])\n",
    "b = np.array([[2,0],[3,4]])\n",
    "print(a*b)\n",
    "print(b*a) # 교환법칙 성립"
   ]
  },
  {
   "cell_type": "markdown",
   "id": "1cc82be7-2ab3-43b0-9b51-31b2509b068f",
   "metadata": {},
   "source": [
    "## np.dot()\n",
    "- 두 벡터의 내적을 계산하는 함수\n",
    "    - 내적이란 벡터에서 서로 대응하는 성분끼리 곱한 다음 그것들을 모두 더한 것을 말하며, 내적 결과는 스칼라가 된다.\n",
    "    - a·b 또는 <a,b>로 표현 : A1B1 + A2B2 + ... + AnBn\n",
    "- 행렬곱에서도 사용 가능하다. 단, 공식 문서에서는 np.matmul() 사용을 권장\n",
    "- 두 행렬의 행렬곱을 계산하기 위해서는 첫 번째 행렬의 열 크기와 두 번째 행렬의 행 크기가 같아야 한다."
   ]
  },
  {
   "cell_type": "code",
   "execution_count": 153,
   "id": "97f2726f-51c5-42f5-9cb1-9e07d8c521c6",
   "metadata": {},
   "outputs": [
    {
     "name": "stdout",
     "output_type": "stream",
     "text": [
      "107\n"
     ]
    }
   ],
   "source": [
    "# 내적계산\n",
    "a = np.array([3,4,5,6,9])\n",
    "b = np.array([8,6,1,3,4])\n",
    "c = np.dot(a,b) # 3*8+4*6+5*1+6*3+9*4\n",
    "print(c)"
   ]
  },
  {
   "cell_type": "code",
   "execution_count": 156,
   "id": "fc7c8ebf-ad93-458f-a11a-24ab5fad3191",
   "metadata": {},
   "outputs": [
    {
     "name": "stdout",
     "output_type": "stream",
     "text": [
      "[[1 1]\n",
      " [0 1]]\n",
      "[[2 0]\n",
      " [3 4]]\n",
      "------------------------------\n",
      "[[5 4]\n",
      " [3 4]]\n",
      "[[2 2]\n",
      " [3 7]]\n"
     ]
    }
   ],
   "source": [
    "A = np.array([[1,1],[0,1]])\n",
    "B =np.array([[2,0],[3,4]])\n",
    "print(A)\n",
    "print(B)\n",
    "print('-' * 30)\n",
    "\n",
    "print(np.dot(A, B)) # A.dot(B)\n",
    "print(np.dot(B, A)) # 교환법칙이 성립하지 않는다."
   ]
  },
  {
   "cell_type": "markdown",
   "id": "1e1d6fef-ea01-42d0-9e93-4cef3c6797a5",
   "metadata": {},
   "source": [
    "## np.matmul() / @ 연산자 "
   ]
  },
  {
   "cell_type": "code",
   "execution_count": 158,
   "id": "87273ba7-32b0-47e0-b340-81f011767817",
   "metadata": {},
   "outputs": [
    {
     "name": "stdout",
     "output_type": "stream",
     "text": [
      "[[5 4]\n",
      " [3 4]]\n",
      "[[10 10]\n",
      " [12 16]]\n"
     ]
    }
   ],
   "source": [
    "A = np.array([[1,1],[0,1]])\n",
    "B =np.array([[2,0],[3,4]])\n",
    "\n",
    "print(A@B)\n",
    "\n",
    "A = np.array([[1,0,3],[0,2,4]]) # 2x3\n",
    "B = np.array([[4,1],[2,2],[2,3]]) # 3x2\n",
    "print(np.matmul(A, B))"
   ]
  },
  {
   "cell_type": "markdown",
   "id": "954faab8-9496-44e6-9c20-7eb0be086ddb",
   "metadata": {},
   "source": [
    "## dot()과 matmul()의 차이\n",
    "- dot()은 행렬과 상수의 곱셈이 가능, matmul()은 에러 발생\n",
    "- 3차원 이상의 행렬곱(Tensor Multiplication)을 수행할 경우 결과가 다르다."
   ]
  },
  {
   "cell_type": "markdown",
   "id": "6310733d-a04a-4dea-a629-17afeadbf8d7",
   "metadata": {},
   "source": [
    "## 전치(Transpose)\n",
    "- 전치는 기존 행렬의 행과 열을 교환하는 것\n",
    "- 주대각선을 기준으로 반사 대칭하는 것을 말한다.\n",
    "- np.transporse() 함수 또는 ndarray.T 속성을 사용한다."
   ]
  },
  {
   "cell_type": "code",
   "execution_count": 159,
   "id": "274540c1-7e2a-4686-9c0c-6ab0385354f7",
   "metadata": {},
   "outputs": [
    {
     "name": "stdout",
     "output_type": "stream",
     "text": [
      "[[1 2]\n",
      " [3 4]]\n",
      "------------------------------\n",
      "[[1 3]\n",
      " [2 4]]\n",
      "------------------------------\n",
      "[[1 3]\n",
      " [2 4]]\n"
     ]
    }
   ],
   "source": [
    "a = np.arange(1,5).reshape((2,2))\n",
    "b = a.T\n",
    "c = np.transpose(a)\n",
    "\n",
    "print(a)\n",
    "print('-'*30)\n",
    "print(b)\n",
    "print('-'*30)\n",
    "print(c)"
   ]
  },
  {
   "cell_type": "markdown",
   "id": "072ef351-7bd6-4411-981f-a7e08a5ea103",
   "metadata": {},
   "source": [
    "# 인덱싱, 슬라이싱, 반복"
   ]
  },
  {
   "cell_type": "markdown",
   "id": "60bb26ea-e0b4-427b-9a5d-3da37d495031",
   "metadata": {},
   "source": [
    "## 인덱싱"
   ]
  },
  {
   "cell_type": "code",
   "execution_count": 165,
   "id": "0b4aea41-fd4d-411e-a321-9881fa1293dc",
   "metadata": {},
   "outputs": [
    {
     "name": "stdout",
     "output_type": "stream",
     "text": [
      "1\n",
      "1\n",
      "1\n"
     ]
    }
   ],
   "source": [
    "import numpy as np\n",
    "\n",
    "a_list = [[1,2,3,4,5],[6,7,8,9,10]]\n",
    "print(a_list[0][0])\n",
    "# print(a_list[0, 0]) # 파이썬에서는 안됨\n",
    "\n",
    "a_ndarray = np.array(a_list)\n",
    "print(a_ndarray[0][0])\n",
    "print(a_ndarray[0,0]) # 행과 열을 동시에"
   ]
  },
  {
   "cell_type": "markdown",
   "id": "1815b696-612f-4362-b8ef-bcb8e198986f",
   "metadata": {},
   "source": [
    "## Boolean Indexing (masking)"
   ]
  },
  {
   "cell_type": "code",
   "execution_count": 173,
   "id": "0dcbcd48-c572-4949-ad62-06ada209d2d9",
   "metadata": {},
   "outputs": [
    {
     "name": "stdout",
     "output_type": "stream",
     "text": [
      "[[ 1  2  3  4  5  6]\n",
      " [ 7  8  9 10 11 12]\n",
      " [13 14 15 16 17 18]\n",
      " [19 20 21 22 23 24]]\n",
      "------------------------------\n",
      "[[False  True False  True False  True]\n",
      " [False  True False  True False  True]\n",
      " [False  True False  True False  True]\n",
      " [False  True False  True False  True]]\n",
      "[ 2  4  6  8 10 12 14 16 18 20 22 24]\n",
      "------------------------------\n",
      "156\n",
      "156\n",
      "------------------------------\n",
      "12\n"
     ]
    }
   ],
   "source": [
    "a = np.arange(1, 25).reshape((4,6))\n",
    "print(a)\n",
    "print('-'*30)\n",
    "# a 배열에서 요소의 값이 짝수인 요소들의 총 합은?\n",
    "even_arr = a % 2 == 0\n",
    "print(even_arr)\n",
    "print(a[even_arr]) # True에 해당하는 값만 나옴\n",
    "print('-'*30)\n",
    "print(np.sum(a[even_arr]))\n",
    "print(np.sum(a[a%2==0]))\n",
    "print('-'*30)\n",
    "print(np.sum(even_arr)) # True의 개수"
   ]
  },
  {
   "cell_type": "markdown",
   "id": "a655a7d7-dc18-49f8-8497-4d6540a333f3",
   "metadata": {},
   "source": [
    "## Fancy Indexing\n",
    "- 배열의 각 요소 선택을 `인덱스 배열을 전달하여` 참조하는 방식\n",
    "- 즉, 정수나 boolean 값을 가지는 다른 배열로 원본 배열의 값을 인덱싱하는 것을 의미한다.\n",
    "- Fancy Indexing은 복사본이 생성된다. "
   ]
  },
  {
   "cell_type": "code",
   "execution_count": 181,
   "id": "092ce31a-ad6f-4160-a544-2e316168812e",
   "metadata": {},
   "outputs": [
    {
     "name": "stdout",
     "output_type": "stream",
     "text": [
      "[[ 0  1  2]\n",
      " [ 3  4  5]\n",
      " [ 6  7  8]\n",
      " [ 9 10 11]\n",
      " [12 13 14]]\n",
      "------------------------------\n",
      "0행, 2행만 인덱싱\n",
      "[[0 1 2]\n",
      " [6 7 8]]\n",
      "------------------------------\n",
      "전체 행에 대해 0열, 2열만 인덱싱\n",
      "[[ 0  2]\n",
      " [ 3  5]\n",
      " [ 6  8]\n",
      " [ 9 11]\n",
      " [12 14]]\n",
      "------------------------------\n",
      "정수 배열 [1,2]를 이용한 인덱싱\n",
      "[[3 4 5]\n",
      " [6 7 8]]\n",
      "------------------------------\n",
      "두 번 인덱싱\n",
      "[[ 0  2]\n",
      " [ 6  8]\n",
      " [12 14]]\n"
     ]
    }
   ],
   "source": [
    "a = np.arange(15).reshape((5,3))\n",
    "print(a)\n",
    "print('-'*30)\n",
    "\n",
    "print('0행, 2행만 인덱싱')\n",
    "print(a[[0,2],:])\n",
    "print('-'*30)\n",
    "\n",
    "print('전체 행에 대해 0열, 2열만 인덱싱')\n",
    "print(a[:,[0,2]])\n",
    "print('-'*30)\n",
    "\n",
    "print('정수 배열 [1,2]를 이용한 인덱싱') # 배열만 넣어주면 행의 값을 의미\n",
    "print(a[[1,2]])\n",
    "print('-'*30)\n",
    "\n",
    "print('두 번 인덱싱')\n",
    "print(a[[0,2,4]][:,[0,2]]) # 0,2,4행에서 다시 0,2열 추출"
   ]
  },
  {
   "cell_type": "code",
   "execution_count": 185,
   "id": "3dfe9210-2b96-430b-90af-0cd3592685f7",
   "metadata": {},
   "outputs": [
    {
     "name": "stdout",
     "output_type": "stream",
     "text": [
      "[[ 0  1  2]\n",
      " [ 3  4  5]\n",
      " [ 6  7  8]\n",
      " [ 9 10 11]\n",
      " [12 13 14]]\n",
      "------------------------------\n",
      "[[ 0  2]\n",
      " [ 6  8]\n",
      " [12 14]]\n",
      "------------------------------\n",
      "[[100 100]\n",
      " [  6   8]\n",
      " [ 12  14]]\n",
      "------------------------------\n",
      "[[ 0  1  2]\n",
      " [ 3  4  5]\n",
      " [ 6  7  8]\n",
      " [ 9 10 11]\n",
      " [12 13 14]]\n"
     ]
    }
   ],
   "source": [
    "# 팬시 인덱싱은 복사본이 생성된다.\n",
    "a = np.arange(15).reshape((5,3))\n",
    "print(a)\n",
    "print('-'*30)\n",
    "\n",
    "copied = a[[0,2,4]][:,[0,2]]\n",
    "print(copied)\n",
    "print('-'*30)\n",
    "# 값 수정\n",
    "copied[0,:] = 100\n",
    "print(copied)\n",
    "print('-'*30)\n",
    "print(a)"
   ]
  },
  {
   "cell_type": "markdown",
   "id": "ba45770d-2bc1-45fe-bdfb-fa36dd39e71d",
   "metadata": {},
   "source": [
    "## 슬라이싱\n",
    "- ndarray[행 슬라이싱 시작:행 슬라이싱 끝, 열 슬라이싱 시작:열 슬라이싱 끝]\n",
    "- numpy에서 슬라이싱은 동일한 메모리 영역의 뷰를 반환한다.\n",
    "- 즉, 뷰를 수정하면 원본 데이터도 변경된다."
   ]
  },
  {
   "cell_type": "code",
   "execution_count": 188,
   "id": "9e889f32-c1de-40bc-87e2-bf2177d61bdb",
   "metadata": {},
   "outputs": [
    {
     "name": "stdout",
     "output_type": "stream",
     "text": [
      "[[ 1  2  3  4]\n",
      " [ 5  6  7  8]\n",
      " [ 9 10 11 12]]\n",
      "------------------------------\n",
      "[[1 2 3 4]\n",
      " [5 6 7 8]]\n",
      "------------------------------\n",
      "[[1 2 3 4]\n",
      " [5 6 7 8]]\n",
      "------------------------------\n",
      "[[1 2 3 4]\n",
      " [5 6 7 8]]\n"
     ]
    }
   ],
   "source": [
    "a = np.arange(1, 13).reshape((3,4))\n",
    "print(a)\n",
    "print('-'*30)\n",
    "\n",
    "print(a[0:2, 0:4])\n",
    "print('-'*30)\n",
    "\n",
    "print(a[:2, :]) # 위와 동일\n",
    "print('-'*30)\n",
    "\n",
    "print(a[:2])"
   ]
  },
  {
   "cell_type": "code",
   "execution_count": 191,
   "id": "b213628b-7143-4187-b5a9-6fc51a0d05f7",
   "metadata": {},
   "outputs": [
    {
     "name": "stdout",
     "output_type": "stream",
     "text": [
      "[[ 9 10 11 12]]\n",
      "------------------------------\n",
      "[[ 9 10 11 12]\n",
      " [ 5  6  7  8]\n",
      " [ 9 10 11 12]]\n"
     ]
    }
   ],
   "source": [
    "a_view = a[:1]\n",
    "print(a_view)\n",
    "print('-'*30)\n",
    "a_view[0] = [9, 10, 11, 12]\n",
    "print(a)"
   ]
  },
  {
   "cell_type": "markdown",
   "id": "4a64124a-d780-4b10-b50c-b0fe5daf95d3",
   "metadata": {},
   "source": [
    "[문제] 슬라이싱 실습"
   ]
  },
  {
   "cell_type": "code",
   "execution_count": 239,
   "id": "d70cbc60-8394-487b-899c-7828f682d736",
   "metadata": {},
   "outputs": [
    {
     "name": "stdout",
     "output_type": "stream",
     "text": [
      "[[ 1  2  3  4  5  6]\n",
      " [ 7  8  9 10 11 12]\n",
      " [13 14 15 16 17 18]\n",
      " [19 20 21 22 23 24]]\n",
      "------------------------------\n",
      "[[ 8  9 10 11]\n",
      " [14 15 16 17]]\n",
      "------------------------------\n",
      "[[ 1  2  3  4  5  6]\n",
      " [ 7  8  9 10 11 12]]\n",
      "------------------------------\n",
      "[[ 2  3]\n",
      " [ 8  9]\n",
      " [14 15]\n",
      " [20 21]]\n",
      "------------------------------\n",
      "[[7 8]]\n",
      "------------------------------\n",
      "[[ 6]\n",
      " [12]\n",
      " [18]\n",
      " [24]]\n"
     ]
    }
   ],
   "source": [
    "import numpy as np\n",
    "\n",
    "origin = np.arange(1, 25).reshape((4,6))\n",
    "print(origin)\n",
    "print('-'*30)\n",
    "\n",
    "# 1. 가운데 요소 가져오기\n",
    "print(origin[1:3, 1:5])\n",
    "print('-'*30)\n",
    "# 2. 0~1 행과 모든 열 가져오기\n",
    "print(origin[:2])\n",
    "print('-'*30)\n",
    "# 3. 전체 행, 1,2열 가져오기\n",
    "print(origin[:,1:3])\n",
    "print('-'*30)\n",
    "# 4. 1행과 0,1열 가져오기\n",
    "print(origin[1:2,0:2])\n",
    "print('-'*30)\n",
    "# 5. 각 행의 마지막 열 데이터만 추출해서 2차원 열벡터로 변경하기\n",
    "print(origin[:,-1].reshape((-1,1))) # -1 : 행을 알아서 맞춰라"
   ]
  },
  {
   "cell_type": "markdown",
   "id": "dae988aa-1772-4196-95d3-6e8389ff2062",
   "metadata": {},
   "source": [
    "## 인덱싱 & 슬라이싱 그리고 차원\n",
    "- 정수 인덱싱과 슬라이싱을 혼합해서 사용하면 낮은 차원의 배열이 생성되지만\n",
    "- 슬라이싱만 사용하면 원본 배열과 같은 차원의 배열이 생성된다."
   ]
  },
  {
   "cell_type": "code",
   "execution_count": 242,
   "id": "9f89c27a-5f1d-428e-8d54-8d02c3e688b5",
   "metadata": {},
   "outputs": [
    {
     "name": "stdout",
     "output_type": "stream",
     "text": [
      "[[ 1  2  3  4]\n",
      " [ 5  6  7  8]\n",
      " [ 9 10 11 12]] (3, 4) 2\n",
      "------------------------------\n",
      "슬라이싱 이용\n",
      "[[1 2 3 4]] (1, 4) 2\n",
      "------------------------------\n",
      "인덱싱만 사용\n",
      "[1 2 3 4] (4,) 1\n",
      "------------------------------\n",
      "인덱싱 & 슬라이싱 혼합 사용\n",
      "[1 2 3 4] (4,) 1\n",
      "------------------------------\n",
      "팬시 인덱싱(<--> 정수 인덱싱) 사용\n",
      "[[ 1  2  3  4]\n",
      " [ 9 10 11 12]]\n"
     ]
    }
   ],
   "source": [
    "a = np.arange(1, 13).reshape((3,4))\n",
    "print(a, a.shape, a.ndim)\n",
    "print('-'*30)\n",
    "\n",
    "print('슬라이싱 이용')\n",
    "b = a[:1,:]\n",
    "print(b, b.shape, b.ndim)\n",
    "print('-'*30)\n",
    "\n",
    "print('인덱싱만 사용')\n",
    "c = a[0]\n",
    "print(c, c.shape, c.ndim)\n",
    "print('-'*30)\n",
    "\n",
    "print('인덱싱 & 슬라이싱 혼합 사용')\n",
    "d = a[0,:]\n",
    "print(d, d.shape, d.ndim)\n",
    "print('-'*30)\n",
    "\n",
    "print('팬시 인덱싱(<--> 정수 인덱싱) 사용')\n",
    "# 팬시 인덱싱을 사용하면 원본 배열과 동일한 차원의 배열이 생성된다.\n",
    "print(a[[0,2],:])"
   ]
  },
  {
   "cell_type": "markdown",
   "id": "b6cfd86b-0687-49e0-b074-b4041a7328e3",
   "metadata": {},
   "source": [
    "# Broadcasting\n",
    "- shape이 다른 numpy 배열이 연산을 하려고 할 때 특정 조건이 만족되면 자동으로 연산이 가능한 형태로 변환되는 것\n",
    "- numpy에서 vector나 matrix 간에 연산을 하면 같은 위치의 원소끼리 계산이 이뤄진다.\n",
    "- 이렇게 되려면 계산하려는 vector나 matrix가 형태가 같아야 하는데, 이 때 shape이 맞춰지는 것을 broadcasting이라고 한다.\n",
    "![broad](broadcasting.png)"
   ]
  },
  {
   "cell_type": "markdown",
   "id": "79e217b0-982e-40d1-9d93-bb95ba266999",
   "metadata": {},
   "source": [
    "# random 모듈"
   ]
  },
  {
   "cell_type": "markdown",
   "id": "885d178c-bd11-4a98-a8e8-00e5e64935d3",
   "metadata": {},
   "source": [
    "## np.random.rand\n",
    "- 0 이상 1 미만의 균등 분포 난수 생성\n",
    "- shape을 전달하면 그 크기에 맞는 다차원 배열을 생성한다."
   ]
  },
  {
   "cell_type": "code",
   "execution_count": 243,
   "id": "4267a842-7045-4b7c-a1b3-a0e63e2ea3c1",
   "metadata": {},
   "outputs": [
    {
     "name": "stdout",
     "output_type": "stream",
     "text": [
      "0.265566126772097\n",
      "[0.26360285 0.15037787 0.68381843]\n",
      "[[0.81660184 0.33607158 0.89081653 0.19812181]\n",
      " [0.03061665 0.87761494 0.72743551 0.54088093]\n",
      " [0.13145815 0.41366737 0.77872881 0.58390137]]\n"
     ]
    }
   ],
   "source": [
    "a = np.random.rand() # 난수 1개 생성\n",
    "print(a)\n",
    "b = np.random.rand(3) # 1차원 벡터 생성\n",
    "print(b)\n",
    "c = np.random.rand(3,4) # 2차원 행렬 생성\n",
    "print(c)"
   ]
  },
  {
   "cell_type": "code",
   "execution_count": 244,
   "id": "0b581fdf-f58f-47a8-aa98-a336043d191d",
   "metadata": {},
   "outputs": [
    {
     "data": {
      "image/png": "[encoded data removed]",
      "text/plain": [
       "<Figure size 640x480 with 1 Axes>"
      ]
     },
     "metadata": {},
     "output_type": "display_data"
    }
   ],
   "source": [
    "import matplotlib.pyplot as plt\n",
    "\n",
    "np.random.seed(0)\n",
    "a = np.random.rand(100000)\n",
    "plt.hist(a, bins = 100)\n",
    "plt.show()"
   ]
  },
  {
   "cell_type": "markdown",
   "id": "2936b7d6-e02b-4429-8afb-9457ecabe48f",
   "metadata": {},
   "source": [
    "## np.random.randint()\n",
    "- 주어진 범위의 균등분포의 임의의 정수 난수 발생"
   ]
  },
  {
   "cell_type": "code",
   "execution_count": 246,
   "id": "36a51244-569f-4fab-bed5-35e99bea19e3",
   "metadata": {},
   "outputs": [
    {
     "name": "stdout",
     "output_type": "stream",
     "text": [
      "0\n",
      "2\n",
      "[4 4 3]\n",
      "[[2 1 3]\n",
      " [1 3 1]\n",
      " [3 1 3]]\n"
     ]
    }
   ],
   "source": [
    "a = np.random.randint(3) #[0,3) 범위의 임의의 정수 1개 생성\n",
    "print(a)\n",
    "\n",
    "b = np.random.randint(1,5) # [1, 5) 범위의 임의의 정수 1개 생성\n",
    "print(b)\n",
    "\n",
    "c = np.random.randint(1,5, size = 3) #[1, 5) 범위의 임의의 정수 3개 생성\n",
    "print(c)\n",
    "\n",
    "d = np.random.randint(1,5, size = (3,3)) #[1, 5) 범위의 임의의 정수 3x3개 생성\n",
    "print(d)"
   ]
  },
  {
   "cell_type": "markdown",
   "id": "e0e0543e-2f8c-4cf0-a8fc-26bb6a1a1c7f",
   "metadata": {},
   "source": [
    "## np.random.randn()\n",
    "- 표준정규분포(평균은 0, 표준편차는 1로 이루어진 데이터)로부터 샘플링된 난수를 발생한다."
   ]
  },
  {
   "cell_type": "code",
   "execution_count": 248,
   "id": "f81411f0-b199-4812-af44-aa83eca4bb83",
   "metadata": {},
   "outputs": [
    {
     "name": "stdout",
     "output_type": "stream",
     "text": [
      "-0.014852827689607086\n",
      "[ 0.11753585 -0.0526958   0.26225629]\n",
      "[[-0.15627998 -0.53984546 -0.17530963 -0.29539932]\n",
      " [ 0.75554217  1.2514908   0.20408971 -0.2416629 ]\n",
      " [ 0.58080533 -0.98996209  0.8214335   1.11976663]]\n"
     ]
    }
   ],
   "source": [
    "a = np.random.randn() # 난수 1개 발생\n",
    "print(a)\n",
    "\n",
    "b = np.random.randn(3) # 1차원 배열 생성\n",
    "print(b)\n",
    "\n",
    "c = np.random.randn(3,4) # 3x4 2차원 배열 생성\n",
    "print(c)"
   ]
  },
  {
   "cell_type": "code",
   "execution_count": 253,
   "id": "74f6cdbe-660f-493e-8959-3051cc416706",
   "metadata": {},
   "outputs": [
    {
     "data": {
      "image/png": "[encoded data removed]",
      "text/plain": [
       "<Figure size 640x480 with 1 Axes>"
      ]
     },
     "metadata": {},
     "output_type": "display_data"
    },
    {
     "name": "stdout",
     "output_type": "stream",
     "text": [
      "0.9993848056698224 0.0006142354818026183\n"
     ]
    }
   ],
   "source": [
    "a = np.random.randn(1000000)\n",
    "plt.hist(a, bins=100, density = True, histtype='step')\n",
    "plt.show()\n",
    "print(np.std(a), np.mean(a))"
   ]
  },
  {
   "cell_type": "markdown",
   "id": "1b3ac669-71bf-4aad-b1be-92fed1c825ab",
   "metadata": {},
   "source": [
    "## np.random.choice()\n",
    "- 주어진 1차원 행렬에서 랜덤으로 샘플링한다.\n",
    "- replace = False 중복 샘플링을 하지 않는다. (default는 replace=True)"
   ]
  },
  {
   "cell_type": "code",
   "execution_count": 255,
   "id": "26ea6569-6f21-44ca-83ff-bf6c85b263ed",
   "metadata": {},
   "outputs": [
    {
     "name": "stdout",
     "output_type": "stream",
     "text": [
      "[16 94 65]\n"
     ]
    }
   ],
   "source": [
    "np.random.seed(10)\n",
    "data = np.random.randint(1, 101, 10)\n",
    "r = np.random.choice(data, size = (3,), replace = False)\n",
    "print(r)"
   ]
  }
 ],
 "metadata": {
  "kernelspec": {
   "display_name": "Python 3 (ipykernel)",
   "language": "python",
   "name": "python3"
  },
  "language_info": {
   "codemirror_mode": {
    "name": "ipython",
    "version": 3
   },
   "file_extension": ".py",
   "mimetype": "text/x-python",
   "name": "python",
   "nbconvert_exporter": "python",
   "pygments_lexer": "ipython3",
   "version": "3.11.7"
  }
 },
 "nbformat": 4,
 "nbformat_minor": 5
}
