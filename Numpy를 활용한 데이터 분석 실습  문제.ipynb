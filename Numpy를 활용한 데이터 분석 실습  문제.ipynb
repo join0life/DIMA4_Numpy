{
 "cells": [
  {
   "cell_type": "markdown",
   "metadata": {},
   "source": [
    "# [문제] BMI 지수 계산 및 과체중 이상인 BMI 값 확인\n",
    "- 10명에 대한 키와 몸무게가 들어있는 'height_weight.txt'를 읽어 각 사람별 BMI 지수를 구하고 비만 전단계 이상인 BMI 값 확인하기\n",
    "\n",
    "<pre>\n",
    " BMI 지수 = 몸무게(kg) / 키(M)의 제곱\n",
    " 체질량지수의 범위 값에 따른 비만도 값 지정\n",
    " 18.5 미만 ▶ 저체중\n",
    " 18.5 ~ 22.9 ▶ 정상\n",
    " 23 ~ 24.9 ▶ 비만 전단계\n",
    " 25 ~ 29 ▶ 1단계 비만\n",
    " 30 ~ 34.9 ▶ 2단계 비만\n",
    " 35이상 ▶ 고도비만\n",
    "</pre>"
   ]
  },
  {
   "cell_type": "code",
   "execution_count": 17,
   "metadata": {},
   "outputs": [
    {
     "name": "stdout",
     "output_type": "stream",
     "text": [
      "[[175.2 180.3 175.  169.2 185.2 188.  177.6 178.2 177.  179. ]\n",
      " [ 65.6  88.   79.2  69.3  55.   71.2  73.   68.9  74.   82. ]]\n"
     ]
    }
   ],
   "source": [
    "import numpy as np\n",
    "\n",
    "# 데이터 로딩\n",
    "data = np.loadtxt('height_weight.txt', delimiter=',', dtype=float)\n",
    "print(data)\n",
    "\n",
    "weight = data[1]\n",
    "# print(weight)\n",
    "height = (data[0]/100)\n",
    "# print(height)\n",
    "squared_height = height ** 2"
   ]
  },
  {
   "cell_type": "code",
   "execution_count": 20,
   "metadata": {},
   "outputs": [
    {
     "name": "stdout",
     "output_type": "stream",
     "text": [
      "[21.37153104 27.07018468 25.86122449 24.20652885 16.03543423 20.14486193\n",
      " 23.14392095 21.69720651 23.62028791 25.59220998]\n",
      "[27.07018468 25.86122449 25.59220998]\n"
     ]
    }
   ],
   "source": [
    "bmi = weight / squared_height # np.divide(weight, squared_height)\n",
    "print(bmi)\n",
    "print(bmi[bmi >= 25])"
   ]
  },
  {
   "cell_type": "markdown",
   "metadata": {},
   "source": [
    "# [문제] 국가건강검진 혈압혈당 데이터 분석\n",
    "\n",
    "* '국가건강검진_혈압혈당데이터.csv' 파일 내용을 읽기\n",
    "    - 성별: 1(남자), 2(여자)\n",
    "    - 연령그룹: 1(20-24), 2(25-26),...25-74세까지 2살 간격으로 1개 그룹으로 지정, 27(74세 이상)\n",
    "    - 고혈압 당뇨병 진료여부: 1(고혈압 및 당뇨진료내역 있음), 2(고혈압 진료내역 있음), 3(당뇨 진료내역 있음), 4(고혈압 및 당뇨 진료내역 없음)\n",
    "    - 정상혈압: 수축기 혈압 120nnHg 미만, 확장기 혈압 80mmHg 미만\n",
    "    - 공복혈당 수치: 126 mg/dL 이상 -> 당뇨병, 100mg/dL-> 정상\n",
    "* 전체 레코드 수와 상위 5개 데이터 확인\n",
    "* 데이터 모양 확인\n",
    "* 여성과 남성의 데이터 수 확인\n",
    "* 여성과 남성의 수축기혈압과 이완기혈압의 평균값 확인\n",
    "* 정상 혈압 남자 및 여자 수 확인\n",
    "* 당뇨병 질환(공복혈당 수치 126mg/dL 이상)을 가지고 있는 사람들의 평균 체질량지수"
   ]
  },
  {
   "cell_type": "code",
   "execution_count": 56,
   "metadata": {},
   "outputs": [
    {
     "name": "stdout",
     "output_type": "stream",
     "text": [
      "[[  1.    1.  116.  ...  94.    4.   16.6]\n",
      " [  1.    1.  100.  ...  79.    4.   22.3]\n",
      " [  1.    1.  100.  ...  87.    4.   21.9]\n",
      " ...\n",
      " [  2.   27.  115.  ... 110.    1.   25.2]\n",
      " [  2.   27.  120.  ...  90.    2.   19.7]\n",
      " [  2.   27.  116.  ...  92.    4.   17.6]]\n",
      "1000000\n",
      "[[  1.    1.  116.   78.   94.    4.   16.6]\n",
      " [  1.    1.  100.   60.   79.    4.   22.3]\n",
      " [  1.    1.  100.   60.   87.    4.   21.9]\n",
      " [  1.    1.  111.   70.   72.    4.   20.2]\n",
      " [  1.    1.  120.   80.   98.    4.   20. ]]\n",
      "(1000000, 7)\n",
      "남성 데이터 수: 510,227개\n",
      "여성 데이터 수: 489,773개\n"
     ]
    }
   ],
   "source": [
    "import numpy as np\n",
    "\n",
    "# 데이터 로드\n",
    "data = np.loadtxt(\"국가건강검진_혈압혈당데이터.csv\", delimiter=\",\", skiprows=1, encoding='cp949') # skiprows = 1 : 첫번째 행은 스킵\n",
    "print(data)\n",
    "\n",
    "# 전체 레코드 수와 상위 5개 데이터 확인\n",
    "print(len(data)) # print(data.shape[0])\n",
    "print(data[:5])\n",
    "\n",
    "# 데이터 모양 확인\n",
    "print(np.shape(data))\n",
    "\n",
    "# 여성과 남성의 데이터 수 확인\n",
    "# print(data[:,0]==1)\n",
    "# print(f'남성 데이터 수: {np.sum(data[:,0]==1):,}개')\n",
    "print(f'남성 데이터 수: {len(data[data[:,0]==1]):,}개') \n",
    "print(f'여성 데이터 수: {len(data[data[:,0]==2]):,}개') "
   ]
  },
  {
   "cell_type": "code",
   "execution_count": 69,
   "metadata": {
    "scrolled": true
   },
   "outputs": [
    {
     "name": "stdout",
     "output_type": "stream",
     "text": [
      "남성의 수축기 평균 혈압: 124.28\n",
      "남성의 이완기 평균 혈압: 77.61\n",
      "여성의 수축기 평균 혈압: 119.36\n",
      "여성의 이완기 평균 혈압: 73.88\n",
      "정상 혈압 남자 수: 158007\n",
      "정상 혈압 여자 수: 230707\n"
     ]
    }
   ],
   "source": [
    "# 여성과 남성의 수축기혈압과 이완기혈압의 평균값 확인\n",
    "# 수축기혈압 : SBP, 이완기혈압: DBP\n",
    "male_sbp_mean = np.mean(data[data[:,0]==1][:,2])\n",
    "print(f'남성의 수축기 평균 혈압: {male_sbp_mean:.2f}')\n",
    "male_dbp_mean = np.mean(data[data[:,0]==1][:,3])\n",
    "print(f'남성의 이완기 평균 혈압: {male_dbp_mean:.2f}')\n",
    "female_sbp_mean = np.mean(data[data[:,0]==2][:,2])\n",
    "print(f'여성의 수축기 평균 혈압: {female_sbp_mean:.2f}')\n",
    "female_dbp_mean = np.mean(data[data[:,0]==2][:,3])\n",
    "print(f'여성의 이완기 평균 혈압: {female_dbp_mean:.2f}')\n",
    "\n",
    "# 정상 혈압 남자 및 여자 수 확인\n",
    "normal_bp = np.logical_and(data[:,2] < 120, data[:,3] < 80) \n",
    "nbp = data[normal_bp]\n",
    "print('정상 혈압 남자 수:', len(nbp[nbp[:,0]==1]))\n",
    "print('정상 혈압 여자 수:', len(nbp[nbp[:,0]==2]))"
   ]
  },
  {
   "cell_type": "code",
   "execution_count": 68,
   "metadata": {},
   "outputs": [
    {
     "name": "stdout",
     "output_type": "stream",
     "text": [
      "25.168695210981763\n"
     ]
    }
   ],
   "source": [
    "# 당뇨병 질환(공복혈당 수치 126mg/dL 이상)을 가지고 있는 사람들의 평균 체질량지수\n",
    "diabetes = data[data[:,4] >= 126]\n",
    "print(np.mean(diabetes[:,6]))"
   ]
  },
  {
   "cell_type": "code",
   "execution_count": 48,
   "metadata": {
    "scrolled": true
   },
   "outputs": [
    {
     "name": "stdout",
     "output_type": "stream",
     "text": [
      "성별 값:  [1. 2.]\n",
      "고혈압 당뇨병 진료 여부 값:  [1. 2. 3. 4.]\n"
     ]
    }
   ],
   "source": [
    "# 각 컬럼별 유니크 값 확인\n",
    "print('성별 값: ', np.unique(data[:,0]))\n",
    "print('고혈압 당뇨병 진료 여부 값: ', np.unique(data[:,5]))"
   ]
  },
  {
   "cell_type": "markdown",
   "metadata": {},
   "source": [
    "# [문제] 시에틀 강수량 데이터 분석\n",
    "- 'Seattle2014.csv' 파일 내용 읽기\n",
    "- 강수량('PRCP')이 많은 날 상위 10일 확인\n",
    "- 1월 강수량만 출력\n",
    "- 1월에 내린 강수량의 합, 평균강수량 확인\n",
    "- 1년동안 강수량이 40미만으로 내린 날이 몇일인가?"
   ]
  },
  {
   "cell_type": "code",
   "execution_count": 122,
   "metadata": {},
   "outputs": [
    {
     "name": "stdout",
     "output_type": "stream",
     "text": [
      "[['GHCND:USW00024233' 'SEATTLE TACOMA INTERNATIONAL AIRPORT WA US'\n",
      "  '20140101' '0' '0' '0' '72' '33' '12' '340' '310' '36' '40' '-9999'\n",
      "  '-9999' '-9999' '-9999']\n",
      " ['GHCND:USW00024233' 'SEATTLE TACOMA INTERNATIONAL AIRPORT WA US'\n",
      "  '20140102' '41' '0' '0' '106' '61' '32' '190' '200' '94' '116' '-9999'\n",
      "  '-9999' '-9999' '-9999']\n",
      " ['GHCND:USW00024233' 'SEATTLE TACOMA INTERNATIONAL AIRPORT WA US'\n",
      "  '20140103' '15' '0' '0' '89' '28' '26' '30' '50' '63' '72' '1' '-9999'\n",
      "  '-9999' '-9999']\n",
      " ['GHCND:USW00024233' 'SEATTLE TACOMA INTERNATIONAL AIRPORT WA US'\n",
      "  '20140104' '0' '0' '0' '78' '6' '27' '40' '40' '45' '58' '1' '-9999'\n",
      "  '-9999' '-9999']\n",
      " ['GHCND:USW00024233' 'SEATTLE TACOMA INTERNATIONAL AIRPORT WA US'\n",
      "  '20140105' '0' '0' '0' '83' '-5' '37' '10' '10' '67' '76' '-9999'\n",
      "  '-9999' '-9999' '-9999']]\n"
     ]
    }
   ],
   "source": [
    "import numpy as np\n",
    "\n",
    "# 데이터 로드\n",
    "data = np.loadtxt(\"Seattle2014.csv\", delimiter=\",\", dtype=object, skiprows=1) # object : 데이터를 전부 문자열 형태로 불러옴\n",
    "print(data[:5,])"
   ]
  },
  {
   "cell_type": "code",
   "execution_count": 123,
   "metadata": {
    "scrolled": true
   },
   "outputs": [
    {
     "name": "stdout",
     "output_type": "stream",
     "text": [
      "[467 343 333 323 320 277 264 254 221 216]\n"
     ]
    }
   ],
   "source": [
    "# 강수량('PRCP')이 많은 날 상위 10일 확인\n",
    "prcp_data= data[:,3].astype('int32') # dtype이 object라서 문자열. 문자열을 정수형으로 변환\n",
    "a = np.sort(prcp_data)[::-1]\n",
    "print(a[:10])"
   ]
  },
  {
   "cell_type": "code",
   "execution_count": 130,
   "metadata": {},
   "outputs": [
    {
     "name": "stdout",
     "output_type": "stream",
     "text": [
      "[[20140305      467]\n",
      " [20141128      343]\n",
      " [20140503      333]\n",
      " [20140308      323]\n",
      " [20141022      320]\n",
      " [20140316      277]\n",
      " [20140216      264]\n",
      " [20141030      254]\n",
      " [20140328      221]\n",
      " [20140129      216]]\n"
     ]
    }
   ],
   "source": [
    "# 강수량('PRCP')이 많은 날 상위 10일 확인 (날짜 포함)\n",
    "prcp_data= data[:,[2,3]].astype('int32')\n",
    "# print(prcp_data[:10])\n",
    "print(prcp_data[prcp_data[:,1].argsort()][::-1][:10])"
   ]
  },
  {
   "cell_type": "code",
   "execution_count": 133,
   "metadata": {},
   "outputs": [
    {
     "name": "stdout",
     "output_type": "stream",
     "text": [
      "[  0  41  15   0   0   3 122  97  58  43 213  15   0   0   0   0   0   0\n",
      "   0   0   0   5   0   0   0   0   0  89 216   0  23]\n"
     ]
    }
   ],
   "source": [
    "# 1월 강수량만 출력 - 방법 1\n",
    "print(data[:31][:,3].astype(int))"
   ]
  },
  {
   "cell_type": "code",
   "execution_count": 134,
   "metadata": {},
   "outputs": [
    {
     "name": "stdout",
     "output_type": "stream",
     "text": [
      "[  0  41  15   0   0   3 122  97  58  43 213  15   0   0   0   0   0   0\n",
      "   0   0   0   5   0   0   0   0   0  89 216   0  23]\n"
     ]
    }
   ],
   "source": [
    "# 1월 강수량만 출력 - 방법 2\n",
    "prcp_data = data[:,[2,3]].astype(int) # 날짜와 강수량\n",
    "jan_prcp_data = prcp_data[prcp_data[:,0] < 20140201]\n",
    "print(jan_prcp_data[:,1])"
   ]
  },
  {
   "cell_type": "code",
   "execution_count": 140,
   "metadata": {},
   "outputs": [
    {
     "name": "stdout",
     "output_type": "stream",
     "text": [
      "[  0  41  15   0   0   3 122  97  58  43 213  15   0   0   0   0   0   0\n",
      "   0   0   0   5   0   0   0   0   0  89 216   0  23]\n"
     ]
    }
   ],
   "source": [
    "# 1월 강수량만 출력 - 방법 3\n",
    "prcp_data = data[:,[2,3]].astype(int)\n",
    "prcp_data[:,0] = (prcp_data[:,0] - 20140000) // 100 # 100으로 나뉘었을 때 몫만 취하기\n",
    "# print(prcp_data[:40])\n",
    "jan_prcp_data = prcp_data[prcp_data[:,0]==1][:,1]\n",
    "print(jan_prcp_data)"
   ]
  },
  {
   "cell_type": "code",
   "execution_count": 148,
   "metadata": {},
   "outputs": [
    {
     "name": "stdout",
     "output_type": "stream",
     "text": [
      "[  0  41  15   0   0   3 122  97  58  43 213  15   0   0   0   0   0   0\n",
      "   0   0   0   5   0   0   0   0   0  89 216   0  23]\n"
     ]
    }
   ],
   "source": [
    "# 1월 강수량만 출력 - 방법 4\n",
    "prcp_data = data[:,[2,3]]\n",
    "prcp_data = np.array([ [date[4:6], prcp] for date, prcp in prcp_data])\n",
    "# print(prcp_data[:40])\n",
    "jan_prcp_data = prcp_data[prcp_data[:,0]=='01'][:,1].astype(int)\n",
    "print(jan_prcp_data)"
   ]
  },
  {
   "cell_type": "code",
   "execution_count": 150,
   "metadata": {},
   "outputs": [
    {
     "name": "stdout",
     "output_type": "stream",
     "text": [
      "1월 강수량 합: 940\n",
      "1월 평균 강수량: 30.322580645161292\n"
     ]
    }
   ],
   "source": [
    "# 1월에 내린 강수량의 합, 평균강수량 확인\n",
    "print('1월 강수량 합:', np.sum(jan_prcp_data))\n",
    "print('1월 평균 강수량:', np.mean(jan_prcp_data))"
   ]
  },
  {
   "cell_type": "code",
   "execution_count": 154,
   "metadata": {},
   "outputs": [
    {
     "name": "stdout",
     "output_type": "stream",
     "text": [
      "277 일\n"
     ]
    }
   ],
   "source": [
    "# 1년동안 강수량이 40미만으로 내린 날이 몇일인가?\n",
    "prcp_data = data[:,3].astype(int)\n",
    "under_40 = prcp_data[prcp_data < 40]\n",
    "print(len(under_40), '일')"
   ]
  },
  {
   "cell_type": "markdown",
   "metadata": {},
   "source": [
    "# [문제] 영화 평점 분석\n",
    "- 'ratings.dat' 파일 내용 읽기 (데이터 형식: user_id::item_id::rating::timestamp)\n",
    "- 상위 10개 데이터 출력하기\n",
    "- 데이터 정보 확인(크기, 차원)\n",
    "- 전체 데이터 평점 구하기\n",
    "- 사용자 아이디 1인 데이터 출력하기\n",
    "- 사용자 아이디 1인 사람의 평점 평균 구하기\n",
    "- 각 사용자별 평균 평점 구하기 (사용자 ID 수집: ID컬럼에 대한 np.unique() 함수 적용)\n",
    "- 각 사용자별 평균 평점이 4점 이상인 사용자 및 인원수 구하기"
   ]
  },
  {
   "cell_type": "code",
   "execution_count": 205,
   "metadata": {},
   "outputs": [
    {
     "name": "stdout",
     "output_type": "stream",
     "text": [
      "[[        1      1193         5 978300760]\n",
      " [        1       661         3 978302109]\n",
      " [        1       914         3 978301968]\n",
      " [        1      3408         4 978300275]\n",
      " [        1      2355         5 978824291]\n",
      " [        1      1197         3 978302268]\n",
      " [        1      1287         5 978302039]\n",
      " [        1      2804         5 978300719]\n",
      " [        1       594         4 978302268]\n",
      " [        1       919         4 978301368]]\n"
     ]
    }
   ],
   "source": [
    "import numpy as np\n",
    "\n",
    "# 상위 10개 데이터 출력하기\n",
    "data = np.loadtxt('ratings.dat', delimiter=':', dtype=np.int64)\n",
    "print(data[:10])"
   ]
  },
  {
   "cell_type": "code",
   "execution_count": 209,
   "metadata": {},
   "outputs": [
    {
     "name": "stdout",
     "output_type": "stream",
     "text": [
      "(1000209, 4)\n",
      "2\n"
     ]
    }
   ],
   "source": [
    "# 데이터 정보 확인(크기, 차원)\n",
    "print(data.shape)\n",
    "print(data.ndim)"
   ]
  },
  {
   "cell_type": "code",
   "execution_count": 211,
   "metadata": {},
   "outputs": [
    {
     "name": "stdout",
     "output_type": "stream",
     "text": [
      "전체 사용자 평균 평점: 3.58점\n"
     ]
    }
   ],
   "source": [
    "# 전체 데이터 평균 평점 구하기\n",
    "avg_rating = np.mean(data[:,2])\n",
    "print(f'전체 사용자 평균 평점: {avg_rating:.2f}점')"
   ]
  },
  {
   "cell_type": "code",
   "execution_count": null,
   "metadata": {},
   "outputs": [],
   "source": [
    "# 사용자 아이디 1인 데이터 출력하기\n",
    "user_id_1 = data[:,0] == 1\n",
    "print(data[user_id_1])"
   ]
  },
  {
   "cell_type": "code",
   "execution_count": 217,
   "metadata": {},
   "outputs": [
    {
     "name": "stdout",
     "output_type": "stream",
     "text": [
      "user ID 1인 사람의 평균 평점 : 4.19\n"
     ]
    }
   ],
   "source": [
    "# 사용자 아이디 1인 사람의 평점 평균 구하기\n",
    "print(f'user ID 1인 사람의 평균 평점 : {np.mean(data[user_id_1][:,2]):.2f}')"
   ]
  },
  {
   "cell_type": "code",
   "execution_count": null,
   "metadata": {},
   "outputs": [],
   "source": [
    "# 각 사용자별 평균 평점 구하기 (사용자 ID 수집: ID컬럼에 대한 np.unique() 함수 적용)"
   ]
  },
  {
   "cell_type": "code",
   "execution_count": 224,
   "metadata": {},
   "outputs": [
    {
     "name": "stdout",
     "output_type": "stream",
     "text": [
      "전체 유저 수: 6,040명\n",
      "1유저 평점: 4.19\n",
      "2유저 평점: 3.71\n",
      "3유저 평점: 3.90\n",
      "4유저 평점: 4.19\n",
      "5유저 평점: 3.15\n",
      "6유저 평점: 3.90\n",
      "7유저 평점: 4.32\n",
      "8유저 평점: 3.88\n",
      "9유저 평점: 3.74\n",
      "10유저 평점: 4.11\n"
     ]
    }
   ],
   "source": [
    "user_ids = np.unique(data[:,0])\n",
    "print(f'전체 유저 수: {len(user_ids):,}명')\n",
    "\n",
    "user_avg_rating = [ [id, np.mean(data[data[:,0]==id][:,2])]for id in user_ids]\n",
    "\n",
    "for id, rating in user_avg_rating[:10]:\n",
    "    print(f'{id}유저 평점: {rating:.2f}')"
   ]
  },
  {
   "cell_type": "code",
   "execution_count": 225,
   "metadata": {},
   "outputs": [
    {
     "name": "stdout",
     "output_type": "stream",
     "text": [
      "평균 평점이 4점 이상인 유저 수: 1,544명\n"
     ]
    }
   ],
   "source": [
    "# 각 사용자별 평균 평점이 4점 이상인 사용자 및 인원수 구하기\n",
    "user_avg_rating = np.array(user_avg_rating)\n",
    "print(f'평균 평점이 4점 이상인 유저 수: {np.sum(user_avg_rating[:,1]>=4):,}명')"
   ]
  }
 ],
 "metadata": {
  "kernelspec": {
   "display_name": "Python 3 (ipykernel)",
   "language": "python",
   "name": "python3"
  },
  "language_info": {
   "codemirror_mode": {
    "name": "ipython",
    "version": 3
   },
   "file_extension": ".py",
   "mimetype": "text/x-python",
   "name": "python",
   "nbconvert_exporter": "python",
   "pygments_lexer": "ipython3",
   "version": "3.11.7"
  },
  "toc": {
   "base_numbering": 1,
   "nav_menu": {},
   "number_sections": true,
   "sideBar": true,
   "skip_h1_title": false,
   "title_cell": "Table of Contents",
   "title_sidebar": "Contents",
   "toc_cell": false,
   "toc_position": {
    "height": "calc(100% - 180px)",
    "left": "10px",
    "top": "150px",
    "width": "236px"
   },
   "toc_section_display": true,
   "toc_window_display": false
  }
 },
 "nbformat": 4,
 "nbformat_minor": 4
}
